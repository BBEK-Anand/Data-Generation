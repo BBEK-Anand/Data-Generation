{
 "cells": [
  {
   "cell_type": "markdown",
   "id": "57e71015",
   "metadata": {},
   "source": []
  },
  {
   "cell_type": "markdown",
   "id": "d2f61d99",
   "metadata": {},
   "source": [
    "Importing libreries"
   ]
  },
  {
   "cell_type": "code",
   "execution_count": 1,
   "id": "7742a93e",
   "metadata": {},
   "outputs": [],
   "source": [
    "import pandas as pd\n",
    "import random as rnd\n",
    "import numpy as np"
   ]
  },
  {
   "cell_type": "markdown",
   "id": "b0e6f42f",
   "metadata": {},
   "source": [
    "## For sheet_1 , Patient Record\n",
    "import dataset format"
   ]
  },
  {
   "cell_type": "code",
   "execution_count": 2,
   "id": "8dfc9aa9",
   "metadata": {},
   "outputs": [
    {
     "data": {
      "text/html": [
       "<div>\n",
       "<style scoped>\n",
       "    .dataframe tbody tr th:only-of-type {\n",
       "        vertical-align: middle;\n",
       "    }\n",
       "\n",
       "    .dataframe tbody tr th {\n",
       "        vertical-align: top;\n",
       "    }\n",
       "\n",
       "    .dataframe thead th {\n",
       "        text-align: right;\n",
       "    }\n",
       "</style>\n",
       "<table border=\"1\" class=\"dataframe\">\n",
       "  <thead>\n",
       "    <tr style=\"text-align: right;\">\n",
       "      <th></th>\n",
       "      <th>Sr. No.</th>\n",
       "    </tr>\n",
       "  </thead>\n",
       "  <tbody>\n",
       "    <tr>\n",
       "      <th>4995</th>\n",
       "      <td>4996</td>\n",
       "    </tr>\n",
       "    <tr>\n",
       "      <th>4996</th>\n",
       "      <td>4997</td>\n",
       "    </tr>\n",
       "    <tr>\n",
       "      <th>4997</th>\n",
       "      <td>4998</td>\n",
       "    </tr>\n",
       "    <tr>\n",
       "      <th>4998</th>\n",
       "      <td>4999</td>\n",
       "    </tr>\n",
       "    <tr>\n",
       "      <th>4999</th>\n",
       "      <td>5000</td>\n",
       "    </tr>\n",
       "  </tbody>\n",
       "</table>\n",
       "</div>"
      ],
      "text/plain": [
       "      Sr. No.\n",
       "4995     4996\n",
       "4996     4997\n",
       "4997     4998\n",
       "4998     4999\n",
       "4999     5000"
      ]
     },
     "execution_count": 2,
     "metadata": {},
     "output_type": "execute_result"
    }
   ],
   "source": [
    "dt=pd.DataFrame()\n",
    "dt[\"Sr. No.\"]=[i for i in range(1,5001)]\n",
    "dt.tail()"
   ]
  },
  {
   "cell_type": "markdown",
   "id": "32e8c1f5",
   "metadata": {},
   "source": [
    "#### PatientId"
   ]
  },
  {
   "cell_type": "code",
   "execution_count": 3,
   "id": "69482658",
   "metadata": {},
   "outputs": [
    {
     "data": {
      "text/html": [
       "<div>\n",
       "<style scoped>\n",
       "    .dataframe tbody tr th:only-of-type {\n",
       "        vertical-align: middle;\n",
       "    }\n",
       "\n",
       "    .dataframe tbody tr th {\n",
       "        vertical-align: top;\n",
       "    }\n",
       "\n",
       "    .dataframe thead th {\n",
       "        text-align: right;\n",
       "    }\n",
       "</style>\n",
       "<table border=\"1\" class=\"dataframe\">\n",
       "  <thead>\n",
       "    <tr style=\"text-align: right;\">\n",
       "      <th></th>\n",
       "      <th>Sr. No.</th>\n",
       "      <th>Patient Id</th>\n",
       "    </tr>\n",
       "  </thead>\n",
       "  <tbody>\n",
       "    <tr>\n",
       "      <th>4995</th>\n",
       "      <td>4996</td>\n",
       "      <td>RajMah4996</td>\n",
       "    </tr>\n",
       "    <tr>\n",
       "      <th>4996</th>\n",
       "      <td>4997</td>\n",
       "      <td>RajMah4997</td>\n",
       "    </tr>\n",
       "    <tr>\n",
       "      <th>4997</th>\n",
       "      <td>4998</td>\n",
       "      <td>RajMah4998</td>\n",
       "    </tr>\n",
       "    <tr>\n",
       "      <th>4998</th>\n",
       "      <td>4999</td>\n",
       "      <td>RajMah4999</td>\n",
       "    </tr>\n",
       "    <tr>\n",
       "      <th>4999</th>\n",
       "      <td>5000</td>\n",
       "      <td>RajMah5000</td>\n",
       "    </tr>\n",
       "  </tbody>\n",
       "</table>\n",
       "</div>"
      ],
      "text/plain": [
       "      Sr. No.  Patient Id\n",
       "4995     4996  RajMah4996\n",
       "4996     4997  RajMah4997\n",
       "4997     4998  RajMah4998\n",
       "4998     4999  RajMah4999\n",
       "4999     5000  RajMah5000"
      ]
     },
     "execution_count": 3,
     "metadata": {},
     "output_type": "execute_result"
    }
   ],
   "source": [
    "pid=[]\n",
    "for i in range(1,5001):\n",
    "    j=str(i)\n",
    "    if len(j)<4:\n",
    "        j=\"0\"*(4-len(j))+j\n",
    "    pid.append(\"RajMah\"+j)\n",
    "dt[\"Patient Id\"]=pid\n",
    "dt.tail()"
   ]
  },
  {
   "cell_type": "markdown",
   "id": "bfe726e1",
   "metadata": {},
   "source": [
    "#### Name of Patient\n",
    "importing names from <b>Gender_final.xlsx</b>"
   ]
  },
  {
   "cell_type": "code",
   "execution_count": 4,
   "id": "0d1ab89a",
   "metadata": {},
   "outputs": [
    {
     "data": {
      "text/html": [
       "<div>\n",
       "<style scoped>\n",
       "    .dataframe tbody tr th:only-of-type {\n",
       "        vertical-align: middle;\n",
       "    }\n",
       "\n",
       "    .dataframe tbody tr th {\n",
       "        vertical-align: top;\n",
       "    }\n",
       "\n",
       "    .dataframe thead th {\n",
       "        text-align: right;\n",
       "    }\n",
       "</style>\n",
       "<table border=\"1\" class=\"dataframe\">\n",
       "  <thead>\n",
       "    <tr style=\"text-align: right;\">\n",
       "      <th></th>\n",
       "      <th>name</th>\n",
       "      <th>gender</th>\n",
       "      <th>race</th>\n",
       "    </tr>\n",
       "  </thead>\n",
       "  <tbody>\n",
       "    <tr>\n",
       "      <th>0</th>\n",
       "      <td>barjraj</td>\n",
       "      <td>m</td>\n",
       "      <td>indian</td>\n",
       "    </tr>\n",
       "    <tr>\n",
       "      <th>1</th>\n",
       "      <td>ramdin verma</td>\n",
       "      <td>m</td>\n",
       "      <td>indian</td>\n",
       "    </tr>\n",
       "    <tr>\n",
       "      <th>2</th>\n",
       "      <td>sharat chandran</td>\n",
       "      <td>m</td>\n",
       "      <td>indian</td>\n",
       "    </tr>\n",
       "    <tr>\n",
       "      <th>3</th>\n",
       "      <td>birender mandal</td>\n",
       "      <td>m</td>\n",
       "      <td>indian</td>\n",
       "    </tr>\n",
       "    <tr>\n",
       "      <th>4</th>\n",
       "      <td>amit</td>\n",
       "      <td>m</td>\n",
       "      <td>indian</td>\n",
       "    </tr>\n",
       "    <tr>\n",
       "      <th>...</th>\n",
       "      <td>...</td>\n",
       "      <td>...</td>\n",
       "      <td>...</td>\n",
       "    </tr>\n",
       "    <tr>\n",
       "      <th>123524</th>\n",
       "      <td>Zulfa</td>\n",
       "      <td>f</td>\n",
       "      <td>indian</td>\n",
       "    </tr>\n",
       "    <tr>\n",
       "      <th>123525</th>\n",
       "      <td>Zumruda</td>\n",
       "      <td>f</td>\n",
       "      <td>indian</td>\n",
       "    </tr>\n",
       "    <tr>\n",
       "      <th>123526</th>\n",
       "      <td>Zunaira</td>\n",
       "      <td>f</td>\n",
       "      <td>indian</td>\n",
       "    </tr>\n",
       "    <tr>\n",
       "      <th>123527</th>\n",
       "      <td>Zunni</td>\n",
       "      <td>f</td>\n",
       "      <td>indian</td>\n",
       "    </tr>\n",
       "    <tr>\n",
       "      <th>123528</th>\n",
       "      <td>Zykaraya</td>\n",
       "      <td>f</td>\n",
       "      <td>indian</td>\n",
       "    </tr>\n",
       "  </tbody>\n",
       "</table>\n",
       "<p>123529 rows × 3 columns</p>\n",
       "</div>"
      ],
      "text/plain": [
       "                   name gender    race\n",
       "0               barjraj      m  indian\n",
       "1          ramdin verma      m  indian\n",
       "2       sharat chandran      m  indian\n",
       "3       birender mandal      m  indian\n",
       "4                  amit      m  indian\n",
       "...                 ...    ...     ...\n",
       "123524            Zulfa      f  indian\n",
       "123525          Zumruda      f  indian\n",
       "123526          Zunaira      f  indian\n",
       "123527            Zunni      f  indian\n",
       "123528         Zykaraya      f  indian\n",
       "\n",
       "[123529 rows x 3 columns]"
      ]
     },
     "execution_count": 4,
     "metadata": {},
     "output_type": "execute_result"
    }
   ],
   "source": [
    "nams=pd.read_excel(\"DataSets/Gender_final.xlsx\")\n",
    "nams"
   ]
  },
  {
   "cell_type": "markdown",
   "id": "2340363a",
   "metadata": {},
   "source": [
    "Converting <b>name</b> field to list"
   ]
  },
  {
   "cell_type": "code",
   "execution_count": 5,
   "id": "3c7efc77",
   "metadata": {},
   "outputs": [],
   "source": [
    "nms=nams[\"name\"].to_list()\n",
    "# nms"
   ]
  },
  {
   "cell_type": "markdown",
   "id": "721b0d84",
   "metadata": {},
   "source": [
    "Cleaning the Name data"
   ]
  },
  {
   "cell_type": "code",
   "execution_count": 6,
   "id": "435a7c06",
   "metadata": {},
   "outputs": [
    {
     "data": {
      "text/plain": [
       "12204"
      ]
     },
     "execution_count": 6,
     "metadata": {},
     "output_type": "execute_result"
    }
   ],
   "source": [
    "pr_nams=[]\n",
    "\n",
    "spchr='abcdefghijklmnopqrstuvwxyz ABCDEFGHIJKLMNOPQRSTUVWXYZ'\n",
    "for i in nms:\n",
    "    i=str(i)\n",
    "    invali=[j for j in i if j not in spchr]\n",
    "    if(len(invali)>0):\n",
    "        continue\n",
    "    wrds=i.split(\" \")\n",
    "    if(len(wrds)>1):\n",
    "        i=\" \".join([l.capitalize() for l in wrds])\n",
    "        pr_nams.append(i)\n",
    "pr_nams=np.array(pr_nams)\n",
    "len(pr_nams)"
   ]
  },
  {
   "cell_type": "markdown",
   "id": "733b9e42",
   "metadata": {},
   "source": [
    "Sampling 5000 names from name"
   ]
  },
  {
   "cell_type": "code",
   "execution_count": 7,
   "id": "2bb43985",
   "metadata": {},
   "outputs": [
    {
     "data": {
      "text/plain": [
       "array(['Raju Kumar', 'Ankit Goyel', 'Rahul Vijay', ..., 'Dwaraka Das',\n",
       "       'Suman Devi', 'Shiv Kumar'], dtype='<U49')"
      ]
     },
     "execution_count": 7,
     "metadata": {},
     "output_type": "execute_result"
    }
   ],
   "source": [
    "names=np.random.choice(np.array(pr_nams),size=5000)\n",
    "names"
   ]
  },
  {
   "cell_type": "markdown",
   "id": "59a23a8d",
   "metadata": {},
   "source": [
    "Assigning <b>Name of Patient</b> field"
   ]
  },
  {
   "cell_type": "code",
   "execution_count": 8,
   "id": "66f0b36e",
   "metadata": {},
   "outputs": [
    {
     "data": {
      "text/html": [
       "<div>\n",
       "<style scoped>\n",
       "    .dataframe tbody tr th:only-of-type {\n",
       "        vertical-align: middle;\n",
       "    }\n",
       "\n",
       "    .dataframe tbody tr th {\n",
       "        vertical-align: top;\n",
       "    }\n",
       "\n",
       "    .dataframe thead th {\n",
       "        text-align: right;\n",
       "    }\n",
       "</style>\n",
       "<table border=\"1\" class=\"dataframe\">\n",
       "  <thead>\n",
       "    <tr style=\"text-align: right;\">\n",
       "      <th></th>\n",
       "      <th>Sr. No.</th>\n",
       "      <th>Patient Id</th>\n",
       "      <th>Name of Patient</th>\n",
       "    </tr>\n",
       "  </thead>\n",
       "  <tbody>\n",
       "    <tr>\n",
       "      <th>4995</th>\n",
       "      <td>4996</td>\n",
       "      <td>RajMah4996</td>\n",
       "      <td>Preyojit Nath</td>\n",
       "    </tr>\n",
       "    <tr>\n",
       "      <th>4996</th>\n",
       "      <td>4997</td>\n",
       "      <td>RajMah4997</td>\n",
       "      <td>Manoj Kumar</td>\n",
       "    </tr>\n",
       "    <tr>\n",
       "      <th>4997</th>\n",
       "      <td>4998</td>\n",
       "      <td>RajMah4998</td>\n",
       "      <td>Dwaraka Das</td>\n",
       "    </tr>\n",
       "    <tr>\n",
       "      <th>4998</th>\n",
       "      <td>4999</td>\n",
       "      <td>RajMah4999</td>\n",
       "      <td>Suman Devi</td>\n",
       "    </tr>\n",
       "    <tr>\n",
       "      <th>4999</th>\n",
       "      <td>5000</td>\n",
       "      <td>RajMah5000</td>\n",
       "      <td>Shiv Kumar</td>\n",
       "    </tr>\n",
       "  </tbody>\n",
       "</table>\n",
       "</div>"
      ],
      "text/plain": [
       "      Sr. No.  Patient Id Name of Patient\n",
       "4995     4996  RajMah4996   Preyojit Nath\n",
       "4996     4997  RajMah4997     Manoj Kumar\n",
       "4997     4998  RajMah4998     Dwaraka Das\n",
       "4998     4999  RajMah4999      Suman Devi\n",
       "4999     5000  RajMah5000      Shiv Kumar"
      ]
     },
     "execution_count": 8,
     "metadata": {},
     "output_type": "execute_result"
    }
   ],
   "source": [
    "dt[\"Name of Patient\"]=names\n",
    "dt.tail()"
   ]
  },
  {
   "cell_type": "markdown",
   "id": "1305af46",
   "metadata": {},
   "source": [
    "#### Contact No.\n",
    "Generating Mobile numbers"
   ]
  },
  {
   "cell_type": "code",
   "execution_count": 9,
   "id": "0fade0fc",
   "metadata": {},
   "outputs": [
    {
     "data": {
      "text/plain": [
       "['+916668213076', '+919360745357', '+916121615026', '+917758315081']"
      ]
     },
     "execution_count": 9,
     "metadata": {},
     "output_type": "execute_result"
    }
   ],
   "source": [
    "mbl=[\"+91\"+str(rnd.randint(6,9))+\"\".join([str(rnd.randint(0,9)) for i in range(9)]) for i in range(5000)]\n",
    "mbl[:4]"
   ]
  },
  {
   "cell_type": "markdown",
   "id": "64ca2b92",
   "metadata": {},
   "source": [
    "Formatting Mobile numbers with spaces"
   ]
  },
  {
   "cell_type": "code",
   "execution_count": 10,
   "id": "3a09b03f",
   "metadata": {},
   "outputs": [
    {
     "data": {
      "text/plain": [
       "'+91 66682 13076'"
      ]
     },
     "execution_count": 10,
     "metadata": {},
     "output_type": "execute_result"
    }
   ],
   "source": [
    "mob=[]\n",
    "for i in mbl:\n",
    "    t=i[:3]+\" \"+i[3:8]+\" \"+i[8:]\n",
    "    mob.append(t)\n",
    "mob[0]"
   ]
  },
  {
   "cell_type": "markdown",
   "id": "f68446fa",
   "metadata": {},
   "source": [
    "Assigning <b>Contact No.</b>"
   ]
  },
  {
   "cell_type": "code",
   "execution_count": 11,
   "id": "7dcb4b94",
   "metadata": {},
   "outputs": [
    {
     "data": {
      "text/html": [
       "<div>\n",
       "<style scoped>\n",
       "    .dataframe tbody tr th:only-of-type {\n",
       "        vertical-align: middle;\n",
       "    }\n",
       "\n",
       "    .dataframe tbody tr th {\n",
       "        vertical-align: top;\n",
       "    }\n",
       "\n",
       "    .dataframe thead th {\n",
       "        text-align: right;\n",
       "    }\n",
       "</style>\n",
       "<table border=\"1\" class=\"dataframe\">\n",
       "  <thead>\n",
       "    <tr style=\"text-align: right;\">\n",
       "      <th></th>\n",
       "      <th>Sr. No.</th>\n",
       "      <th>Patient Id</th>\n",
       "      <th>Name of Patient</th>\n",
       "      <th>Contact No.</th>\n",
       "    </tr>\n",
       "  </thead>\n",
       "  <tbody>\n",
       "    <tr>\n",
       "      <th>0</th>\n",
       "      <td>1</td>\n",
       "      <td>RajMah0001</td>\n",
       "      <td>Raju Kumar</td>\n",
       "      <td>+91 66682 13076</td>\n",
       "    </tr>\n",
       "    <tr>\n",
       "      <th>1</th>\n",
       "      <td>2</td>\n",
       "      <td>RajMah0002</td>\n",
       "      <td>Ankit Goyel</td>\n",
       "      <td>+91 93607 45357</td>\n",
       "    </tr>\n",
       "    <tr>\n",
       "      <th>2</th>\n",
       "      <td>3</td>\n",
       "      <td>RajMah0003</td>\n",
       "      <td>Rahul Vijay</td>\n",
       "      <td>+91 61216 15026</td>\n",
       "    </tr>\n",
       "    <tr>\n",
       "      <th>3</th>\n",
       "      <td>4</td>\n",
       "      <td>RajMah0004</td>\n",
       "      <td>Uthmaa N</td>\n",
       "      <td>+91 77583 15081</td>\n",
       "    </tr>\n",
       "    <tr>\n",
       "      <th>4</th>\n",
       "      <td>5</td>\n",
       "      <td>RajMah0005</td>\n",
       "      <td>Sushree Veena</td>\n",
       "      <td>+91 99797 81590</td>\n",
       "    </tr>\n",
       "  </tbody>\n",
       "</table>\n",
       "</div>"
      ],
      "text/plain": [
       "   Sr. No.  Patient Id Name of Patient      Contact No.\n",
       "0        1  RajMah0001      Raju Kumar  +91 66682 13076\n",
       "1        2  RajMah0002     Ankit Goyel  +91 93607 45357\n",
       "2        3  RajMah0003     Rahul Vijay  +91 61216 15026\n",
       "3        4  RajMah0004        Uthmaa N  +91 77583 15081\n",
       "4        5  RajMah0005   Sushree Veena  +91 99797 81590"
      ]
     },
     "execution_count": 11,
     "metadata": {},
     "output_type": "execute_result"
    }
   ],
   "source": [
    "dt[\"Contact No.\"]=mob\n",
    "dt.head()"
   ]
  },
  {
   "cell_type": "markdown",
   "id": "f0454fc3",
   "metadata": {},
   "source": [
    "#### Adhar ID\n",
    "Generating Adhar numbers"
   ]
  },
  {
   "cell_type": "code",
   "execution_count": 12,
   "id": "92fd82f3",
   "metadata": {},
   "outputs": [
    {
     "data": {
      "text/plain": [
       "'421006428945'"
      ]
     },
     "execution_count": 12,
     "metadata": {},
     "output_type": "execute_result"
    }
   ],
   "source": [
    "adhr=[str(rnd.randint(1,9))+\"\".join([str(rnd.randint(0,9)) for i in range(11)]) for j in range(5000)]\n",
    "adhr[0]"
   ]
  },
  {
   "cell_type": "markdown",
   "id": "56064319",
   "metadata": {},
   "source": [
    "Formatting Adhar numbers with spaces"
   ]
  },
  {
   "cell_type": "code",
   "execution_count": 13,
   "id": "4dc09734",
   "metadata": {},
   "outputs": [
    {
     "data": {
      "text/plain": [
       "'9162 6629 1337'"
      ]
     },
     "execution_count": 13,
     "metadata": {},
     "output_type": "execute_result"
    }
   ],
   "source": [
    "adhar=[]\n",
    "for i in adhr:\n",
    "    t=i[:4]+\" \"+i[4:8]+\" \"+i[8:]\n",
    "    adhar.append(t)\n",
    "adhar[3]"
   ]
  },
  {
   "cell_type": "markdown",
   "id": "3e2d5d2c",
   "metadata": {},
   "source": [
    "Assigning <b>Adhar ID</b>"
   ]
  },
  {
   "cell_type": "code",
   "execution_count": 14,
   "id": "4c66918f",
   "metadata": {},
   "outputs": [
    {
     "data": {
      "text/html": [
       "<div>\n",
       "<style scoped>\n",
       "    .dataframe tbody tr th:only-of-type {\n",
       "        vertical-align: middle;\n",
       "    }\n",
       "\n",
       "    .dataframe tbody tr th {\n",
       "        vertical-align: top;\n",
       "    }\n",
       "\n",
       "    .dataframe thead th {\n",
       "        text-align: right;\n",
       "    }\n",
       "</style>\n",
       "<table border=\"1\" class=\"dataframe\">\n",
       "  <thead>\n",
       "    <tr style=\"text-align: right;\">\n",
       "      <th></th>\n",
       "      <th>Sr. No.</th>\n",
       "      <th>Patient Id</th>\n",
       "      <th>Name of Patient</th>\n",
       "      <th>Contact No.</th>\n",
       "      <th>Adhar ID</th>\n",
       "    </tr>\n",
       "  </thead>\n",
       "  <tbody>\n",
       "    <tr>\n",
       "      <th>0</th>\n",
       "      <td>1</td>\n",
       "      <td>RajMah0001</td>\n",
       "      <td>Raju Kumar</td>\n",
       "      <td>+91 66682 13076</td>\n",
       "      <td>4210 0642 8945</td>\n",
       "    </tr>\n",
       "    <tr>\n",
       "      <th>1</th>\n",
       "      <td>2</td>\n",
       "      <td>RajMah0002</td>\n",
       "      <td>Ankit Goyel</td>\n",
       "      <td>+91 93607 45357</td>\n",
       "      <td>9350 5313 7766</td>\n",
       "    </tr>\n",
       "    <tr>\n",
       "      <th>2</th>\n",
       "      <td>3</td>\n",
       "      <td>RajMah0003</td>\n",
       "      <td>Rahul Vijay</td>\n",
       "      <td>+91 61216 15026</td>\n",
       "      <td>8143 1714 4772</td>\n",
       "    </tr>\n",
       "    <tr>\n",
       "      <th>3</th>\n",
       "      <td>4</td>\n",
       "      <td>RajMah0004</td>\n",
       "      <td>Uthmaa N</td>\n",
       "      <td>+91 77583 15081</td>\n",
       "      <td>9162 6629 1337</td>\n",
       "    </tr>\n",
       "    <tr>\n",
       "      <th>4</th>\n",
       "      <td>5</td>\n",
       "      <td>RajMah0005</td>\n",
       "      <td>Sushree Veena</td>\n",
       "      <td>+91 99797 81590</td>\n",
       "      <td>2386 9495 6304</td>\n",
       "    </tr>\n",
       "  </tbody>\n",
       "</table>\n",
       "</div>"
      ],
      "text/plain": [
       "   Sr. No.  Patient Id Name of Patient      Contact No.        Adhar ID\n",
       "0        1  RajMah0001      Raju Kumar  +91 66682 13076  4210 0642 8945\n",
       "1        2  RajMah0002     Ankit Goyel  +91 93607 45357  9350 5313 7766\n",
       "2        3  RajMah0003     Rahul Vijay  +91 61216 15026  8143 1714 4772\n",
       "3        4  RajMah0004        Uthmaa N  +91 77583 15081  9162 6629 1337\n",
       "4        5  RajMah0005   Sushree Veena  +91 99797 81590  2386 9495 6304"
      ]
     },
     "execution_count": 14,
     "metadata": {},
     "output_type": "execute_result"
    }
   ],
   "source": [
    "dt[\"Adhar ID\"]=adhar\n",
    "dt.head()"
   ]
  },
  {
   "cell_type": "markdown",
   "id": "cb55b1b6",
   "metadata": {},
   "source": [
    "Saving the updated Dataset at <b>Patient Record_5000.xlsx</b>\n"
   ]
  },
  {
   "cell_type": "code",
   "execution_count": 15,
   "id": "8a37f75d",
   "metadata": {},
   "outputs": [],
   "source": [
    "dt.to_excel(\"DataSets/Patient Record_5000.xlsx\",sheet_name=\"Patient Record\",index=False)"
   ]
  },
  {
   "cell_type": "markdown",
   "id": "43c8001d",
   "metadata": {},
   "source": [
    "#### DOB\n",
    "##### Date of Birth Between January 2020 to December 2023 \n",
    "List all dates range from <b>March 1, 2022</b> to <b>July 29, 2023</b><br>\n",
    "And then sampling 5000 dates"
   ]
  },
  {
   "cell_type": "code",
   "execution_count": 16,
   "id": "6fffc8e4",
   "metadata": {},
   "outputs": [
    {
     "data": {
      "text/plain": [
       "array(['2022-05-04', '2021-03-08', '2023-07-26', ..., '2020-04-19',\n",
       "       '2020-05-07', '2022-05-04'], dtype='<U10')"
      ]
     },
     "execution_count": 16,
     "metadata": {},
     "output_type": "execute_result"
    }
   ],
   "source": [
    "dates=pd.date_range(start='3/1/2020', end='7/29/2023',freq=\"d\").astype(str).to_list()\n",
    "dob=np.random.choice(dates,size=5000)\n",
    "dob"
   ]
  },
  {
   "cell_type": "markdown",
   "id": "3f1e9ea8",
   "metadata": {},
   "source": [
    "Assignigning DOB"
   ]
  },
  {
   "cell_type": "code",
   "execution_count": 17,
   "id": "4ee2821b",
   "metadata": {},
   "outputs": [
    {
     "data": {
      "text/html": [
       "<div>\n",
       "<style scoped>\n",
       "    .dataframe tbody tr th:only-of-type {\n",
       "        vertical-align: middle;\n",
       "    }\n",
       "\n",
       "    .dataframe tbody tr th {\n",
       "        vertical-align: top;\n",
       "    }\n",
       "\n",
       "    .dataframe thead th {\n",
       "        text-align: right;\n",
       "    }\n",
       "</style>\n",
       "<table border=\"1\" class=\"dataframe\">\n",
       "  <thead>\n",
       "    <tr style=\"text-align: right;\">\n",
       "      <th></th>\n",
       "      <th>Sr. No.</th>\n",
       "      <th>Patient Id</th>\n",
       "      <th>Name of Patient</th>\n",
       "      <th>Contact No.</th>\n",
       "      <th>Adhar ID</th>\n",
       "      <th>DOB</th>\n",
       "    </tr>\n",
       "  </thead>\n",
       "  <tbody>\n",
       "    <tr>\n",
       "      <th>0</th>\n",
       "      <td>1</td>\n",
       "      <td>RajMah0001</td>\n",
       "      <td>Raju Kumar</td>\n",
       "      <td>+91 66682 13076</td>\n",
       "      <td>4210 0642 8945</td>\n",
       "      <td>2022-05-04</td>\n",
       "    </tr>\n",
       "    <tr>\n",
       "      <th>1</th>\n",
       "      <td>2</td>\n",
       "      <td>RajMah0002</td>\n",
       "      <td>Ankit Goyel</td>\n",
       "      <td>+91 93607 45357</td>\n",
       "      <td>9350 5313 7766</td>\n",
       "      <td>2021-03-08</td>\n",
       "    </tr>\n",
       "    <tr>\n",
       "      <th>2</th>\n",
       "      <td>3</td>\n",
       "      <td>RajMah0003</td>\n",
       "      <td>Rahul Vijay</td>\n",
       "      <td>+91 61216 15026</td>\n",
       "      <td>8143 1714 4772</td>\n",
       "      <td>2023-07-26</td>\n",
       "    </tr>\n",
       "    <tr>\n",
       "      <th>3</th>\n",
       "      <td>4</td>\n",
       "      <td>RajMah0004</td>\n",
       "      <td>Uthmaa N</td>\n",
       "      <td>+91 77583 15081</td>\n",
       "      <td>9162 6629 1337</td>\n",
       "      <td>2022-01-12</td>\n",
       "    </tr>\n",
       "    <tr>\n",
       "      <th>4</th>\n",
       "      <td>5</td>\n",
       "      <td>RajMah0005</td>\n",
       "      <td>Sushree Veena</td>\n",
       "      <td>+91 99797 81590</td>\n",
       "      <td>2386 9495 6304</td>\n",
       "      <td>2023-03-05</td>\n",
       "    </tr>\n",
       "  </tbody>\n",
       "</table>\n",
       "</div>"
      ],
      "text/plain": [
       "   Sr. No.  Patient Id Name of Patient      Contact No.        Adhar ID  \\\n",
       "0        1  RajMah0001      Raju Kumar  +91 66682 13076  4210 0642 8945   \n",
       "1        2  RajMah0002     Ankit Goyel  +91 93607 45357  9350 5313 7766   \n",
       "2        3  RajMah0003     Rahul Vijay  +91 61216 15026  8143 1714 4772   \n",
       "3        4  RajMah0004        Uthmaa N  +91 77583 15081  9162 6629 1337   \n",
       "4        5  RajMah0005   Sushree Veena  +91 99797 81590  2386 9495 6304   \n",
       "\n",
       "          DOB  \n",
       "0  2022-05-04  \n",
       "1  2021-03-08  \n",
       "2  2023-07-26  \n",
       "3  2022-01-12  \n",
       "4  2023-03-05  "
      ]
     },
     "execution_count": 17,
     "metadata": {},
     "output_type": "execute_result"
    }
   ],
   "source": [
    "dt[\"DOB\"]=dob\n",
    "dt.head()"
   ]
  },
  {
   "cell_type": "markdown",
   "id": "f63af0c4",
   "metadata": {},
   "source": [
    "Saving the file"
   ]
  },
  {
   "cell_type": "code",
   "execution_count": 18,
   "id": "e69482c0",
   "metadata": {},
   "outputs": [],
   "source": [
    "dt.to_excel(\"DataSets/Patient Record_5000.xlsx\",sheet_name=\"Patient Record\",index=False)"
   ]
  },
  {
   "cell_type": "markdown",
   "id": "fd7e0e3a",
   "metadata": {},
   "source": [
    "Formatting <b>DOB</b> field as <b>day-month-year</b>"
   ]
  },
  {
   "cell_type": "code",
   "execution_count": 19,
   "id": "ce035a4e",
   "metadata": {},
   "outputs": [
    {
     "data": {
      "text/html": [
       "<div>\n",
       "<style scoped>\n",
       "    .dataframe tbody tr th:only-of-type {\n",
       "        vertical-align: middle;\n",
       "    }\n",
       "\n",
       "    .dataframe tbody tr th {\n",
       "        vertical-align: top;\n",
       "    }\n",
       "\n",
       "    .dataframe thead th {\n",
       "        text-align: right;\n",
       "    }\n",
       "</style>\n",
       "<table border=\"1\" class=\"dataframe\">\n",
       "  <thead>\n",
       "    <tr style=\"text-align: right;\">\n",
       "      <th></th>\n",
       "      <th>Sr. No.</th>\n",
       "      <th>Patient Id</th>\n",
       "      <th>Name of Patient</th>\n",
       "      <th>Contact No.</th>\n",
       "      <th>Adhar ID</th>\n",
       "      <th>DOB</th>\n",
       "    </tr>\n",
       "  </thead>\n",
       "  <tbody>\n",
       "    <tr>\n",
       "      <th>0</th>\n",
       "      <td>1</td>\n",
       "      <td>RajMah0001</td>\n",
       "      <td>Raju Kumar</td>\n",
       "      <td>+91 66682 13076</td>\n",
       "      <td>4210 0642 8945</td>\n",
       "      <td>04-05-2022</td>\n",
       "    </tr>\n",
       "    <tr>\n",
       "      <th>1</th>\n",
       "      <td>2</td>\n",
       "      <td>RajMah0002</td>\n",
       "      <td>Ankit Goyel</td>\n",
       "      <td>+91 93607 45357</td>\n",
       "      <td>9350 5313 7766</td>\n",
       "      <td>08-03-2021</td>\n",
       "    </tr>\n",
       "    <tr>\n",
       "      <th>2</th>\n",
       "      <td>3</td>\n",
       "      <td>RajMah0003</td>\n",
       "      <td>Rahul Vijay</td>\n",
       "      <td>+91 61216 15026</td>\n",
       "      <td>8143 1714 4772</td>\n",
       "      <td>26-07-2023</td>\n",
       "    </tr>\n",
       "    <tr>\n",
       "      <th>3</th>\n",
       "      <td>4</td>\n",
       "      <td>RajMah0004</td>\n",
       "      <td>Uthmaa N</td>\n",
       "      <td>+91 77583 15081</td>\n",
       "      <td>9162 6629 1337</td>\n",
       "      <td>12-01-2022</td>\n",
       "    </tr>\n",
       "    <tr>\n",
       "      <th>4</th>\n",
       "      <td>5</td>\n",
       "      <td>RajMah0005</td>\n",
       "      <td>Sushree Veena</td>\n",
       "      <td>+91 99797 81590</td>\n",
       "      <td>2386 9495 6304</td>\n",
       "      <td>05-03-2023</td>\n",
       "    </tr>\n",
       "  </tbody>\n",
       "</table>\n",
       "</div>"
      ],
      "text/plain": [
       "   Sr. No.  Patient Id Name of Patient      Contact No.        Adhar ID  \\\n",
       "0        1  RajMah0001      Raju Kumar  +91 66682 13076  4210 0642 8945   \n",
       "1        2  RajMah0002     Ankit Goyel  +91 93607 45357  9350 5313 7766   \n",
       "2        3  RajMah0003     Rahul Vijay  +91 61216 15026  8143 1714 4772   \n",
       "3        4  RajMah0004        Uthmaa N  +91 77583 15081  9162 6629 1337   \n",
       "4        5  RajMah0005   Sushree Veena  +91 99797 81590  2386 9495 6304   \n",
       "\n",
       "          DOB  \n",
       "0  04-05-2022  \n",
       "1  08-03-2021  \n",
       "2  26-07-2023  \n",
       "3  12-01-2022  \n",
       "4  05-03-2023  "
      ]
     },
     "execution_count": 19,
     "metadata": {},
     "output_type": "execute_result"
    }
   ],
   "source": [
    "dob = dt[\"DOB\"].to_list()\n",
    "dob1=[]\n",
    "for i in dob:\n",
    "    dob1.append(\"-\".join(i.split(\"-\")[::-1]))\n",
    "dt[\"DOB\"]=dob1\n",
    "dt.head()"
   ]
  },
  {
   "cell_type": "markdown",
   "id": "6981435e",
   "metadata": {},
   "source": [
    "#### Address\n",
    "For <b>Address</b> field, 4 areas are randomly selected\n",
    "<ol>\n",
    "    <li>Rajura</li>\n",
    "    <li>Aheri</li>\n",
    "    <li>Gadchiroli</li>\n",
    "    <li>Etapalli</li>\n",
    "    <li>Sironcha</li>\n",
    "    <li>Bamni</li>\n",
    "    <li>digras</li>\n",
    "    <li>Karanja</li>\n",
    "    <li>Tarsa</li>\n",
    "    <li>Itaba</li>\n",
    "</ol>"
   ]
  },
  {
   "cell_type": "code",
   "execution_count": 20,
   "id": "0287f609",
   "metadata": {},
   "outputs": [
    {
     "data": {
      "text/html": [
       "<div>\n",
       "<style scoped>\n",
       "    .dataframe tbody tr th:only-of-type {\n",
       "        vertical-align: middle;\n",
       "    }\n",
       "\n",
       "    .dataframe tbody tr th {\n",
       "        vertical-align: top;\n",
       "    }\n",
       "\n",
       "    .dataframe thead th {\n",
       "        text-align: right;\n",
       "    }\n",
       "</style>\n",
       "<table border=\"1\" class=\"dataframe\">\n",
       "  <thead>\n",
       "    <tr style=\"text-align: right;\">\n",
       "      <th></th>\n",
       "      <th>Sr. No.</th>\n",
       "      <th>Patient Id</th>\n",
       "      <th>Name of Patient</th>\n",
       "      <th>Contact No.</th>\n",
       "      <th>Adhar ID</th>\n",
       "      <th>DOB</th>\n",
       "      <th>Address</th>\n",
       "    </tr>\n",
       "  </thead>\n",
       "  <tbody>\n",
       "    <tr>\n",
       "      <th>4995</th>\n",
       "      <td>4996</td>\n",
       "      <td>RajMah4996</td>\n",
       "      <td>Preyojit Nath</td>\n",
       "      <td>+91 80342 13225</td>\n",
       "      <td>3103 9079 0611</td>\n",
       "      <td>21-02-2022</td>\n",
       "      <td>Aheri</td>\n",
       "    </tr>\n",
       "    <tr>\n",
       "      <th>4996</th>\n",
       "      <td>4997</td>\n",
       "      <td>RajMah4997</td>\n",
       "      <td>Manoj Kumar</td>\n",
       "      <td>+91 88134 31732</td>\n",
       "      <td>2228 9017 1221</td>\n",
       "      <td>17-04-2022</td>\n",
       "      <td>Bamni</td>\n",
       "    </tr>\n",
       "    <tr>\n",
       "      <th>4997</th>\n",
       "      <td>4998</td>\n",
       "      <td>RajMah4998</td>\n",
       "      <td>Dwaraka Das</td>\n",
       "      <td>+91 72870 21157</td>\n",
       "      <td>3921 7528 2136</td>\n",
       "      <td>19-04-2020</td>\n",
       "      <td>digras</td>\n",
       "    </tr>\n",
       "    <tr>\n",
       "      <th>4998</th>\n",
       "      <td>4999</td>\n",
       "      <td>RajMah4999</td>\n",
       "      <td>Suman Devi</td>\n",
       "      <td>+91 71513 42502</td>\n",
       "      <td>1308 4638 3481</td>\n",
       "      <td>07-05-2020</td>\n",
       "      <td>Etapalli</td>\n",
       "    </tr>\n",
       "    <tr>\n",
       "      <th>4999</th>\n",
       "      <td>5000</td>\n",
       "      <td>RajMah5000</td>\n",
       "      <td>Shiv Kumar</td>\n",
       "      <td>+91 89100 89849</td>\n",
       "      <td>9653 3279 3777</td>\n",
       "      <td>04-05-2022</td>\n",
       "      <td>Etapalli</td>\n",
       "    </tr>\n",
       "  </tbody>\n",
       "</table>\n",
       "</div>"
      ],
      "text/plain": [
       "      Sr. No.  Patient Id Name of Patient      Contact No.        Adhar ID  \\\n",
       "4995     4996  RajMah4996   Preyojit Nath  +91 80342 13225  3103 9079 0611   \n",
       "4996     4997  RajMah4997     Manoj Kumar  +91 88134 31732  2228 9017 1221   \n",
       "4997     4998  RajMah4998     Dwaraka Das  +91 72870 21157  3921 7528 2136   \n",
       "4998     4999  RajMah4999      Suman Devi  +91 71513 42502  1308 4638 3481   \n",
       "4999     5000  RajMah5000      Shiv Kumar  +91 89100 89849  9653 3279 3777   \n",
       "\n",
       "             DOB   Address  \n",
       "4995  21-02-2022     Aheri  \n",
       "4996  17-04-2022     Bamni  \n",
       "4997  19-04-2020    digras  \n",
       "4998  07-05-2020  Etapalli  \n",
       "4999  04-05-2022  Etapalli  "
      ]
     },
     "execution_count": 20,
     "metadata": {},
     "output_type": "execute_result"
    }
   ],
   "source": [
    "area = [\"Rajura\",\"Aheri\",\"Gadchiroli\",\"Etapalli\",\"Sironcha\",\"Bamni\",\"digras\",\"Karanja\",\"Tarsa\",\"Itaba\"]\n",
    "addr=rnd.choices(area,k=5000)\n",
    "dt[\"Address\"]=addr\n",
    "dt.tail()"
   ]
  },
  {
   "cell_type": "markdown",
   "id": "41fb5617",
   "metadata": {},
   "source": [
    "Saving the updated dataset at <b>Patient Record_5000.xlsx</b>"
   ]
  },
  {
   "cell_type": "code",
   "execution_count": 21,
   "id": "a0c55971",
   "metadata": {},
   "outputs": [],
   "source": [
    "dt.to_excel(\"DataSets/Patient Record_5000.xlsx\",sheet_name=\"Patient Record\",index=False)"
   ]
  },
  {
   "cell_type": "code",
   "execution_count": null,
   "id": "a75926a1",
   "metadata": {},
   "outputs": [],
   "source": []
  },
  {
   "cell_type": "code",
   "execution_count": null,
   "id": "c4b8a55f",
   "metadata": {},
   "outputs": [],
   "source": []
  },
  {
   "cell_type": "code",
   "execution_count": null,
   "id": "1a70469b",
   "metadata": {},
   "outputs": [],
   "source": []
  },
  {
   "cell_type": "markdown",
   "id": "37c1fe53",
   "metadata": {},
   "source": [
    "## For sheet_2 , Measuring Parameter"
   ]
  },
  {
   "cell_type": "markdown",
   "id": "1719dbdb",
   "metadata": {},
   "source": [
    "Creating a dataFrame with <b>Sr. No.</b> field of 1st sheet dataframe"
   ]
  },
  {
   "cell_type": "code",
   "execution_count": 22,
   "id": "8866289f",
   "metadata": {},
   "outputs": [
    {
     "data": {
      "text/html": [
       "<div>\n",
       "<style scoped>\n",
       "    .dataframe tbody tr th:only-of-type {\n",
       "        vertical-align: middle;\n",
       "    }\n",
       "\n",
       "    .dataframe tbody tr th {\n",
       "        vertical-align: top;\n",
       "    }\n",
       "\n",
       "    .dataframe thead th {\n",
       "        text-align: right;\n",
       "    }\n",
       "</style>\n",
       "<table border=\"1\" class=\"dataframe\">\n",
       "  <thead>\n",
       "    <tr style=\"text-align: right;\">\n",
       "      <th></th>\n",
       "      <th>Sr. No.</th>\n",
       "    </tr>\n",
       "  </thead>\n",
       "  <tbody>\n",
       "    <tr>\n",
       "      <th>4995</th>\n",
       "      <td>4996</td>\n",
       "    </tr>\n",
       "    <tr>\n",
       "      <th>4996</th>\n",
       "      <td>4997</td>\n",
       "    </tr>\n",
       "    <tr>\n",
       "      <th>4997</th>\n",
       "      <td>4998</td>\n",
       "    </tr>\n",
       "    <tr>\n",
       "      <th>4998</th>\n",
       "      <td>4999</td>\n",
       "    </tr>\n",
       "    <tr>\n",
       "      <th>4999</th>\n",
       "      <td>5000</td>\n",
       "    </tr>\n",
       "  </tbody>\n",
       "</table>\n",
       "</div>"
      ],
      "text/plain": [
       "      Sr. No.\n",
       "4995     4996\n",
       "4996     4997\n",
       "4997     4998\n",
       "4998     4999\n",
       "4999     5000"
      ]
     },
     "execution_count": 22,
     "metadata": {},
     "output_type": "execute_result"
    }
   ],
   "source": [
    "dt2=pd.DataFrame({\"Sr. No.\":dt[\"Sr. No.\"]})\n",
    "dt2.tail()"
   ]
  },
  {
   "cell_type": "markdown",
   "id": "13f6dbb1",
   "metadata": {},
   "source": [
    "#### Date\n",
    "##### Date of 1st visit August 2023 to December 2023 \n",
    "List all dates range from <b>August 13, 2023</b> to <b>December 25, 2023</b><br>\n",
    "And then sampling 50 dates <br>And then sort it"
   ]
  },
  {
   "cell_type": "code",
   "execution_count": 23,
   "id": "ecb1bd3f",
   "metadata": {},
   "outputs": [],
   "source": [
    "m_dats=pd.bdate_range(start=\"8/13/2023\",end=\"12/30/2023\").to_list()\n",
    "# m_dats=pd.bdate_range(start=\"9/9/2023\",end=\"11/4/2023\").to_list()\n",
    "mes_ds=pd.Series(np.random.choice(m_dats,size=5000)).sort_values()\n",
    "mes_dates=[str(i).split(\" \")[0] for i in mes_ds]\n",
    "\n",
    "# mes_dates"
   ]
  },
  {
   "cell_type": "markdown",
   "id": "574af7dc",
   "metadata": {},
   "source": [
    "Assigning <b>Date</b> field"
   ]
  },
  {
   "cell_type": "code",
   "execution_count": 24,
   "id": "f2066c68",
   "metadata": {},
   "outputs": [
    {
     "data": {
      "text/html": [
       "<div>\n",
       "<style scoped>\n",
       "    .dataframe tbody tr th:only-of-type {\n",
       "        vertical-align: middle;\n",
       "    }\n",
       "\n",
       "    .dataframe tbody tr th {\n",
       "        vertical-align: top;\n",
       "    }\n",
       "\n",
       "    .dataframe thead th {\n",
       "        text-align: right;\n",
       "    }\n",
       "</style>\n",
       "<table border=\"1\" class=\"dataframe\">\n",
       "  <thead>\n",
       "    <tr style=\"text-align: right;\">\n",
       "      <th></th>\n",
       "      <th>Sr. No.</th>\n",
       "      <th>Date</th>\n",
       "    </tr>\n",
       "  </thead>\n",
       "  <tbody>\n",
       "    <tr>\n",
       "      <th>4995</th>\n",
       "      <td>4996</td>\n",
       "      <td>2023-12-29</td>\n",
       "    </tr>\n",
       "    <tr>\n",
       "      <th>4996</th>\n",
       "      <td>4997</td>\n",
       "      <td>2023-12-29</td>\n",
       "    </tr>\n",
       "    <tr>\n",
       "      <th>4997</th>\n",
       "      <td>4998</td>\n",
       "      <td>2023-12-29</td>\n",
       "    </tr>\n",
       "    <tr>\n",
       "      <th>4998</th>\n",
       "      <td>4999</td>\n",
       "      <td>2023-12-29</td>\n",
       "    </tr>\n",
       "    <tr>\n",
       "      <th>4999</th>\n",
       "      <td>5000</td>\n",
       "      <td>2023-12-29</td>\n",
       "    </tr>\n",
       "  </tbody>\n",
       "</table>\n",
       "</div>"
      ],
      "text/plain": [
       "      Sr. No.        Date\n",
       "4995     4996  2023-12-29\n",
       "4996     4997  2023-12-29\n",
       "4997     4998  2023-12-29\n",
       "4998     4999  2023-12-29\n",
       "4999     5000  2023-12-29"
      ]
     },
     "execution_count": 24,
     "metadata": {},
     "output_type": "execute_result"
    }
   ],
   "source": [
    "dt2.loc[:,\"Date\"]=mes_dates\n",
    "dt2.tail()"
   ]
  },
  {
   "cell_type": "markdown",
   "id": "c0e944e2",
   "metadata": {},
   "source": [
    "#### Time\n",
    "Time of to measurement in the same day should not be same, Let's find duplicated dates"
   ]
  },
  {
   "cell_type": "code",
   "execution_count": 25,
   "id": "5a29f74c",
   "metadata": {
    "scrolled": true
   },
   "outputs": [],
   "source": [
    "# dat_dup=dt2[\"Date\"].duplicated(keep=\"first\")\n",
    "# dat_dup.value_counts()"
   ]
  },
  {
   "cell_type": "code",
   "execution_count": 26,
   "id": "4032f2bc",
   "metadata": {},
   "outputs": [
    {
     "data": {
      "text/html": [
       "<div>\n",
       "<style scoped>\n",
       "    .dataframe tbody tr th:only-of-type {\n",
       "        vertical-align: middle;\n",
       "    }\n",
       "\n",
       "    .dataframe tbody tr th {\n",
       "        vertical-align: top;\n",
       "    }\n",
       "\n",
       "    .dataframe thead th {\n",
       "        text-align: right;\n",
       "    }\n",
       "</style>\n",
       "<table border=\"1\" class=\"dataframe\">\n",
       "  <thead>\n",
       "    <tr style=\"text-align: right;\">\n",
       "      <th></th>\n",
       "      <th>Date</th>\n",
       "      <th>Area</th>\n",
       "    </tr>\n",
       "  </thead>\n",
       "  <tbody>\n",
       "    <tr>\n",
       "      <th>0</th>\n",
       "      <td>2023-08-14</td>\n",
       "      <td>Rajura</td>\n",
       "    </tr>\n",
       "    <tr>\n",
       "      <th>1</th>\n",
       "      <td>2023-08-14</td>\n",
       "      <td>Rajura</td>\n",
       "    </tr>\n",
       "    <tr>\n",
       "      <th>2</th>\n",
       "      <td>2023-08-14</td>\n",
       "      <td>Tarsa</td>\n",
       "    </tr>\n",
       "    <tr>\n",
       "      <th>3</th>\n",
       "      <td>2023-08-14</td>\n",
       "      <td>Aheri</td>\n",
       "    </tr>\n",
       "    <tr>\n",
       "      <th>4</th>\n",
       "      <td>2023-08-14</td>\n",
       "      <td>Tarsa</td>\n",
       "    </tr>\n",
       "  </tbody>\n",
       "</table>\n",
       "</div>"
      ],
      "text/plain": [
       "         Date    Area\n",
       "0  2023-08-14  Rajura\n",
       "1  2023-08-14  Rajura\n",
       "2  2023-08-14   Tarsa\n",
       "3  2023-08-14   Aheri\n",
       "4  2023-08-14   Tarsa"
      ]
     },
     "execution_count": 26,
     "metadata": {},
     "output_type": "execute_result"
    }
   ],
   "source": [
    "tdf = pd.DataFrame()\n",
    "tdf[\"Date\"] = dt2[\"Date\"]\n",
    "tdf[\"Area\"] = dt[\"Address\"]\n",
    "# tdf[\"Area\"] = dt[\"Address\"]\n",
    "tdf.head()"
   ]
  },
  {
   "cell_type": "code",
   "execution_count": 27,
   "id": "42e9679d",
   "metadata": {},
   "outputs": [
    {
     "data": {
      "text/plain": [
       "(13,\n",
       "            Date        Area  count\n",
       " 488  2023-08-14       Bamni      5\n",
       " 274  2023-08-14      Rajura      6\n",
       " 701  2023-08-14  Gadchiroli      4\n",
       " 489  2023-08-14       Aheri      5\n",
       " 736  2023-08-14    Sironcha      3\n",
       " ..          ...         ...    ...\n",
       " 732  2023-12-29     Karanja      3\n",
       " 731  2023-12-29      Rajura      3\n",
       " 54   2023-12-29    Etapalli      9\n",
       " 425  2023-12-29       Aheri      5\n",
       " 55   2023-12-29       Bamni      9\n",
       " \n",
       " [992 rows x 3 columns])"
      ]
     },
     "execution_count": 27,
     "metadata": {},
     "output_type": "execute_result"
    }
   ],
   "source": [
    "tdf1 = tdf.value_counts().reset_index(name='count').sort_values('Date')\n",
    "# cnt = tdf1[tdf1['count']>0]\n",
    "tdf1['count'].max(),tdf1"
   ]
  },
  {
   "cell_type": "markdown",
   "id": "0dac0589",
   "metadata": {},
   "source": [
    "Get a list of all times in a day differ by 1 min. "
   ]
  },
  {
   "cell_type": "code",
   "execution_count": 28,
   "id": "5377340b",
   "metadata": {},
   "outputs": [],
   "source": [
    "mes_tym=pd.date_range(start=\"10:00\",end=\"12:50\",freq=\"1min\").append(pd.date_range(start=\"14:15\",end=\"15:55\",freq=\"1min\"))\n",
    "\n",
    "mes_tym=[str(i).split(\" \")[1][:-3] for i in mes_tym]\n",
    "# mes_tym"
   ]
  },
  {
   "cell_type": "markdown",
   "id": "01209ac3",
   "metadata": {},
   "source": [
    "Checking duplicated values i.e data having same date"
   ]
  },
  {
   "cell_type": "code",
   "execution_count": 29,
   "id": "15f87d53",
   "metadata": {},
   "outputs": [],
   "source": [
    "# dat_dup.value_counts()"
   ]
  },
  {
   "cell_type": "markdown",
   "id": "8c379375",
   "metadata": {},
   "source": [
    "Creating a temperarty dataframe to find data having same date and same Address"
   ]
  },
  {
   "cell_type": "code",
   "execution_count": 30,
   "id": "02b99e13",
   "metadata": {},
   "outputs": [],
   "source": [
    "# pd.unique(tdf)"
   ]
  },
  {
   "cell_type": "markdown",
   "id": "d89810e5",
   "metadata": {},
   "source": [
    "Creating a new variable <b>mes_time</b> which have the same length of dataset(5000) and assign some value to it , here i copied dat_dup.</br>\n",
    "\n",
    "Assign sorted random sample of <b>bussiness times(var mes_tym)<b/> same number as the counted continuous True values in dat_dup"
   ]
  },
  {
   "cell_type": "code",
   "execution_count": 31,
   "id": "930445ea",
   "metadata": {},
   "outputs": [
    {
     "data": {
      "text/html": [
       "<div>\n",
       "<style scoped>\n",
       "    .dataframe tbody tr th:only-of-type {\n",
       "        vertical-align: middle;\n",
       "    }\n",
       "\n",
       "    .dataframe tbody tr th {\n",
       "        vertical-align: top;\n",
       "    }\n",
       "\n",
       "    .dataframe thead th {\n",
       "        text-align: right;\n",
       "    }\n",
       "</style>\n",
       "<table border=\"1\" class=\"dataframe\">\n",
       "  <thead>\n",
       "    <tr style=\"text-align: right;\">\n",
       "      <th></th>\n",
       "      <th>Date</th>\n",
       "      <th>Area</th>\n",
       "      <th>count</th>\n",
       "    </tr>\n",
       "  </thead>\n",
       "  <tbody>\n",
       "    <tr>\n",
       "      <th>488</th>\n",
       "      <td>2023-08-14</td>\n",
       "      <td>Bamni</td>\n",
       "      <td>5</td>\n",
       "    </tr>\n",
       "    <tr>\n",
       "      <th>274</th>\n",
       "      <td>2023-08-14</td>\n",
       "      <td>Rajura</td>\n",
       "      <td>6</td>\n",
       "    </tr>\n",
       "    <tr>\n",
       "      <th>701</th>\n",
       "      <td>2023-08-14</td>\n",
       "      <td>Gadchiroli</td>\n",
       "      <td>4</td>\n",
       "    </tr>\n",
       "    <tr>\n",
       "      <th>489</th>\n",
       "      <td>2023-08-14</td>\n",
       "      <td>Aheri</td>\n",
       "      <td>5</td>\n",
       "    </tr>\n",
       "    <tr>\n",
       "      <th>736</th>\n",
       "      <td>2023-08-14</td>\n",
       "      <td>Sironcha</td>\n",
       "      <td>3</td>\n",
       "    </tr>\n",
       "    <tr>\n",
       "      <th>...</th>\n",
       "      <td>...</td>\n",
       "      <td>...</td>\n",
       "      <td>...</td>\n",
       "    </tr>\n",
       "    <tr>\n",
       "      <th>732</th>\n",
       "      <td>2023-12-29</td>\n",
       "      <td>Karanja</td>\n",
       "      <td>3</td>\n",
       "    </tr>\n",
       "    <tr>\n",
       "      <th>731</th>\n",
       "      <td>2023-12-29</td>\n",
       "      <td>Rajura</td>\n",
       "      <td>3</td>\n",
       "    </tr>\n",
       "    <tr>\n",
       "      <th>54</th>\n",
       "      <td>2023-12-29</td>\n",
       "      <td>Etapalli</td>\n",
       "      <td>9</td>\n",
       "    </tr>\n",
       "    <tr>\n",
       "      <th>425</th>\n",
       "      <td>2023-12-29</td>\n",
       "      <td>Aheri</td>\n",
       "      <td>5</td>\n",
       "    </tr>\n",
       "    <tr>\n",
       "      <th>55</th>\n",
       "      <td>2023-12-29</td>\n",
       "      <td>Bamni</td>\n",
       "      <td>9</td>\n",
       "    </tr>\n",
       "  </tbody>\n",
       "</table>\n",
       "<p>992 rows × 3 columns</p>\n",
       "</div>"
      ],
      "text/plain": [
       "           Date        Area  count\n",
       "488  2023-08-14       Bamni      5\n",
       "274  2023-08-14      Rajura      6\n",
       "701  2023-08-14  Gadchiroli      4\n",
       "489  2023-08-14       Aheri      5\n",
       "736  2023-08-14    Sironcha      3\n",
       "..          ...         ...    ...\n",
       "732  2023-12-29     Karanja      3\n",
       "731  2023-12-29      Rajura      3\n",
       "54   2023-12-29    Etapalli      9\n",
       "425  2023-12-29       Aheri      5\n",
       "55   2023-12-29       Bamni      9\n",
       "\n",
       "[992 rows x 3 columns]"
      ]
     },
     "execution_count": 31,
     "metadata": {},
     "output_type": "execute_result"
    }
   ],
   "source": [
    "tdf1"
   ]
  },
  {
   "cell_type": "code",
   "execution_count": 32,
   "id": "08352279",
   "metadata": {},
   "outputs": [
    {
     "data": {
      "text/html": [
       "<div>\n",
       "<style scoped>\n",
       "    .dataframe tbody tr th:only-of-type {\n",
       "        vertical-align: middle;\n",
       "    }\n",
       "\n",
       "    .dataframe tbody tr th {\n",
       "        vertical-align: top;\n",
       "    }\n",
       "\n",
       "    .dataframe thead th {\n",
       "        text-align: right;\n",
       "    }\n",
       "</style>\n",
       "<table border=\"1\" class=\"dataframe\">\n",
       "  <thead>\n",
       "    <tr style=\"text-align: right;\">\n",
       "      <th></th>\n",
       "      <th>Sr. No.</th>\n",
       "      <th>Date</th>\n",
       "      <th>Time</th>\n",
       "    </tr>\n",
       "  </thead>\n",
       "  <tbody>\n",
       "    <tr>\n",
       "      <th>0</th>\n",
       "      <td>1</td>\n",
       "      <td>2023-08-14</td>\n",
       "      <td>NaN</td>\n",
       "    </tr>\n",
       "    <tr>\n",
       "      <th>1</th>\n",
       "      <td>2</td>\n",
       "      <td>2023-08-14</td>\n",
       "      <td>NaN</td>\n",
       "    </tr>\n",
       "    <tr>\n",
       "      <th>2</th>\n",
       "      <td>3</td>\n",
       "      <td>2023-08-14</td>\n",
       "      <td>NaN</td>\n",
       "    </tr>\n",
       "    <tr>\n",
       "      <th>3</th>\n",
       "      <td>4</td>\n",
       "      <td>2023-08-14</td>\n",
       "      <td>NaN</td>\n",
       "    </tr>\n",
       "    <tr>\n",
       "      <th>4</th>\n",
       "      <td>5</td>\n",
       "      <td>2023-08-14</td>\n",
       "      <td>NaN</td>\n",
       "    </tr>\n",
       "  </tbody>\n",
       "</table>\n",
       "</div>"
      ],
      "text/plain": [
       "   Sr. No.        Date  Time\n",
       "0        1  2023-08-14   NaN\n",
       "1        2  2023-08-14   NaN\n",
       "2        3  2023-08-14   NaN\n",
       "3        4  2023-08-14   NaN\n",
       "4        5  2023-08-14   NaN"
      ]
     },
     "execution_count": 32,
     "metadata": {},
     "output_type": "execute_result"
    }
   ],
   "source": [
    "dt2[\"Time\"]=np.nan\n",
    "dt2.head()"
   ]
  },
  {
   "cell_type": "code",
   "execution_count": 33,
   "id": "76409f00",
   "metadata": {},
   "outputs": [
    {
     "data": {
      "text/plain": [
       "Sr. No.       0\n",
       "Date          0\n",
       "Time       5000\n",
       "dtype: int64"
      ]
     },
     "execution_count": 33,
     "metadata": {},
     "output_type": "execute_result"
    }
   ],
   "source": [
    "dt2.isna().sum()"
   ]
  },
  {
   "cell_type": "code",
   "execution_count": 40,
   "id": "200f940f",
   "metadata": {},
   "outputs": [
    {
     "data": {
      "text/html": [
       "<div>\n",
       "<style scoped>\n",
       "    .dataframe tbody tr th:only-of-type {\n",
       "        vertical-align: middle;\n",
       "    }\n",
       "\n",
       "    .dataframe tbody tr th {\n",
       "        vertical-align: top;\n",
       "    }\n",
       "\n",
       "    .dataframe thead th {\n",
       "        text-align: right;\n",
       "    }\n",
       "</style>\n",
       "<table border=\"1\" class=\"dataframe\">\n",
       "  <thead>\n",
       "    <tr style=\"text-align: right;\">\n",
       "      <th></th>\n",
       "      <th>Sr. No.</th>\n",
       "      <th>Date</th>\n",
       "      <th>Time</th>\n",
       "      <th>Address</th>\n",
       "      <th>Patient Id</th>\n",
       "    </tr>\n",
       "  </thead>\n",
       "  <tbody>\n",
       "    <tr>\n",
       "      <th>0</th>\n",
       "      <td>1</td>\n",
       "      <td>2023-08-14</td>\n",
       "      <td>10:48</td>\n",
       "      <td>Rajura</td>\n",
       "      <td>RajMah0001</td>\n",
       "    </tr>\n",
       "    <tr>\n",
       "      <th>1</th>\n",
       "      <td>2</td>\n",
       "      <td>2023-08-14</td>\n",
       "      <td>11:04</td>\n",
       "      <td>Rajura</td>\n",
       "      <td>RajMah0002</td>\n",
       "    </tr>\n",
       "    <tr>\n",
       "      <th>2</th>\n",
       "      <td>3</td>\n",
       "      <td>2023-08-14</td>\n",
       "      <td>10:00</td>\n",
       "      <td>Tarsa</td>\n",
       "      <td>RajMah0003</td>\n",
       "    </tr>\n",
       "    <tr>\n",
       "      <th>3</th>\n",
       "      <td>4</td>\n",
       "      <td>2023-08-14</td>\n",
       "      <td>10:56</td>\n",
       "      <td>Aheri</td>\n",
       "      <td>RajMah0004</td>\n",
       "    </tr>\n",
       "    <tr>\n",
       "      <th>4</th>\n",
       "      <td>5</td>\n",
       "      <td>2023-08-14</td>\n",
       "      <td>10:42</td>\n",
       "      <td>Tarsa</td>\n",
       "      <td>RajMah0005</td>\n",
       "    </tr>\n",
       "  </tbody>\n",
       "</table>\n",
       "</div>"
      ],
      "text/plain": [
       "   Sr. No.        Date   Time Address  Patient Id\n",
       "0        1  2023-08-14  10:48  Rajura  RajMah0001\n",
       "1        2  2023-08-14  11:04  Rajura  RajMah0002\n",
       "2        3  2023-08-14  10:00   Tarsa  RajMah0003\n",
       "3        4  2023-08-14  10:56   Aheri  RajMah0004\n",
       "4        5  2023-08-14  10:42   Tarsa  RajMah0005"
      ]
     },
     "execution_count": 40,
     "metadata": {},
     "output_type": "execute_result"
    }
   ],
   "source": [
    "for i in tdf1.values:\n",
    "    tmm=pd.Series(np.random.choice(mes_tym[::rnd.randint(10,17)], i[-1], replace=False)).sort_values().to_list()\n",
    "\n",
    "    dt2.loc[ (dt2['Date'] == i[0]) & (tdf[\"Area\"] == i[1]), \"Time\"] = tmm\n",
    "dt2.head()"
   ]
  },
  {
   "cell_type": "code",
   "execution_count": 36,
   "id": "d9ff6d13",
   "metadata": {},
   "outputs": [
    {
     "data": {
      "text/html": [
       "<div>\n",
       "<style scoped>\n",
       "    .dataframe tbody tr th:only-of-type {\n",
       "        vertical-align: middle;\n",
       "    }\n",
       "\n",
       "    .dataframe tbody tr th {\n",
       "        vertical-align: top;\n",
       "    }\n",
       "\n",
       "    .dataframe thead th {\n",
       "        text-align: right;\n",
       "    }\n",
       "</style>\n",
       "<table border=\"1\" class=\"dataframe\">\n",
       "  <thead>\n",
       "    <tr style=\"text-align: right;\">\n",
       "      <th></th>\n",
       "      <th>Sr. No.</th>\n",
       "      <th>Date</th>\n",
       "      <th>Time</th>\n",
       "      <th>Address</th>\n",
       "    </tr>\n",
       "  </thead>\n",
       "  <tbody>\n",
       "    <tr>\n",
       "      <th>0</th>\n",
       "      <td>1</td>\n",
       "      <td>2023-08-14</td>\n",
       "      <td>10:30</td>\n",
       "      <td>Rajura</td>\n",
       "    </tr>\n",
       "    <tr>\n",
       "      <th>1</th>\n",
       "      <td>2</td>\n",
       "      <td>2023-08-14</td>\n",
       "      <td>11:10</td>\n",
       "      <td>Rajura</td>\n",
       "    </tr>\n",
       "    <tr>\n",
       "      <th>2</th>\n",
       "      <td>3</td>\n",
       "      <td>2023-08-14</td>\n",
       "      <td>10:00</td>\n",
       "      <td>Tarsa</td>\n",
       "    </tr>\n",
       "    <tr>\n",
       "      <th>3</th>\n",
       "      <td>4</td>\n",
       "      <td>2023-08-14</td>\n",
       "      <td>11:18</td>\n",
       "      <td>Aheri</td>\n",
       "    </tr>\n",
       "    <tr>\n",
       "      <th>4</th>\n",
       "      <td>5</td>\n",
       "      <td>2023-08-14</td>\n",
       "      <td>10:39</td>\n",
       "      <td>Tarsa</td>\n",
       "    </tr>\n",
       "  </tbody>\n",
       "</table>\n",
       "</div>"
      ],
      "text/plain": [
       "   Sr. No.        Date   Time Address\n",
       "0        1  2023-08-14  10:30  Rajura\n",
       "1        2  2023-08-14  11:10  Rajura\n",
       "2        3  2023-08-14  10:00   Tarsa\n",
       "3        4  2023-08-14  11:18   Aheri\n",
       "4        5  2023-08-14  10:39   Tarsa"
      ]
     },
     "execution_count": 36,
     "metadata": {},
     "output_type": "execute_result"
    }
   ],
   "source": [
    "dt2[\"Address\"] = dt[\"Address\"]\n",
    "dt2.head()"
   ]
  },
  {
   "cell_type": "code",
   "execution_count": 37,
   "id": "0ed3cd98",
   "metadata": {},
   "outputs": [
    {
     "data": {
      "text/plain": [
       "Sr. No.    0\n",
       "Date       0\n",
       "Time       0\n",
       "Address    0\n",
       "dtype: int64"
      ]
     },
     "execution_count": 37,
     "metadata": {},
     "output_type": "execute_result"
    }
   ],
   "source": [
    "dt2.isna().sum()"
   ]
  },
  {
   "cell_type": "markdown",
   "id": "68da8237",
   "metadata": {},
   "source": [
    "Assigning <b>Time</b> field"
   ]
  },
  {
   "cell_type": "markdown",
   "id": "641b816b",
   "metadata": {},
   "source": [
    "Saving the updated dataset <b>Measuring Parameter_5000.xlsx</b>"
   ]
  },
  {
   "cell_type": "code",
   "execution_count": 38,
   "id": "c4cc1adb",
   "metadata": {},
   "outputs": [],
   "source": [
    "dt2.to_excel(\"DataSets/Measuring Parameter_5000.xlsx\",sheet_name=\"Measuring Parameter\",index=False)"
   ]
  },
  {
   "cell_type": "markdown",
   "id": "55ae3597",
   "metadata": {},
   "source": [
    "#### Patient Id\n",
    "Coppying <b>Patient Id</b> from 1st sheet data"
   ]
  },
  {
   "cell_type": "code",
   "execution_count": 39,
   "id": "4c997160",
   "metadata": {},
   "outputs": [
    {
     "data": {
      "text/html": [
       "<div>\n",
       "<style scoped>\n",
       "    .dataframe tbody tr th:only-of-type {\n",
       "        vertical-align: middle;\n",
       "    }\n",
       "\n",
       "    .dataframe tbody tr th {\n",
       "        vertical-align: top;\n",
       "    }\n",
       "\n",
       "    .dataframe thead th {\n",
       "        text-align: right;\n",
       "    }\n",
       "</style>\n",
       "<table border=\"1\" class=\"dataframe\">\n",
       "  <thead>\n",
       "    <tr style=\"text-align: right;\">\n",
       "      <th></th>\n",
       "      <th>Sr. No.</th>\n",
       "      <th>Date</th>\n",
       "      <th>Time</th>\n",
       "      <th>Address</th>\n",
       "      <th>Patient Id</th>\n",
       "    </tr>\n",
       "  </thead>\n",
       "  <tbody>\n",
       "    <tr>\n",
       "      <th>4995</th>\n",
       "      <td>4996</td>\n",
       "      <td>2023-12-29</td>\n",
       "      <td>15:48</td>\n",
       "      <td>Aheri</td>\n",
       "      <td>RajMah4996</td>\n",
       "    </tr>\n",
       "    <tr>\n",
       "      <th>4996</th>\n",
       "      <td>4997</td>\n",
       "      <td>2023-12-29</td>\n",
       "      <td>15:34</td>\n",
       "      <td>Bamni</td>\n",
       "      <td>RajMah4997</td>\n",
       "    </tr>\n",
       "    <tr>\n",
       "      <th>4997</th>\n",
       "      <td>4998</td>\n",
       "      <td>2023-12-29</td>\n",
       "      <td>15:39</td>\n",
       "      <td>digras</td>\n",
       "      <td>RajMah4998</td>\n",
       "    </tr>\n",
       "    <tr>\n",
       "      <th>4998</th>\n",
       "      <td>4999</td>\n",
       "      <td>2023-12-29</td>\n",
       "      <td>15:24</td>\n",
       "      <td>Etapalli</td>\n",
       "      <td>RajMah4999</td>\n",
       "    </tr>\n",
       "    <tr>\n",
       "      <th>4999</th>\n",
       "      <td>5000</td>\n",
       "      <td>2023-12-29</td>\n",
       "      <td>15:39</td>\n",
       "      <td>Etapalli</td>\n",
       "      <td>RajMah5000</td>\n",
       "    </tr>\n",
       "  </tbody>\n",
       "</table>\n",
       "</div>"
      ],
      "text/plain": [
       "      Sr. No.        Date   Time   Address  Patient Id\n",
       "4995     4996  2023-12-29  15:48     Aheri  RajMah4996\n",
       "4996     4997  2023-12-29  15:34     Bamni  RajMah4997\n",
       "4997     4998  2023-12-29  15:39    digras  RajMah4998\n",
       "4998     4999  2023-12-29  15:24  Etapalli  RajMah4999\n",
       "4999     5000  2023-12-29  15:39  Etapalli  RajMah5000"
      ]
     },
     "execution_count": 39,
     "metadata": {},
     "output_type": "execute_result"
    }
   ],
   "source": [
    "dt2[\"Patient Id\"]=dt[\"Patient Id\"]\n",
    "dt2.tail()"
   ]
  },
  {
   "cell_type": "markdown",
   "id": "71cd5c7e",
   "metadata": {},
   "source": [
    "#### Height, Weight\n",
    "Generating random values <b>from 80.00 to 105.00 for Height</b> and <b>for Weight it is from 9.00 to 20.00</b>"
   ]
  },
  {
   "cell_type": "code",
   "execution_count": null,
   "id": "7df74f14",
   "metadata": {},
   "outputs": [],
   "source": [
    "height=[rnd.randint(8000,10500)/100 for i in range(5000)]\n",
    "weight=[rnd.randint(900,2000)/100 for i in range(5000)]"
   ]
  },
  {
   "cell_type": "markdown",
   "id": "064cd556",
   "metadata": {},
   "source": [
    "Filling <b>height</b> and <b>Weight</b> field"
   ]
  },
  {
   "cell_type": "code",
   "execution_count": null,
   "id": "bca63626",
   "metadata": {},
   "outputs": [],
   "source": [
    "dt2.loc[:,\"Height (cm)\"]=height\n",
    "dt2.loc[:,\"Weight (kg)\"]=weight\n",
    "dt2.tail(11)"
   ]
  },
  {
   "cell_type": "markdown",
   "id": "ee5e3df3",
   "metadata": {},
   "source": [
    "Calculating BMI = Weight/Height**2"
   ]
  },
  {
   "cell_type": "code",
   "execution_count": null,
   "id": "07a2457d",
   "metadata": {},
   "outputs": [],
   "source": [
    "bmi=round(dt2[\"Weight (kg)\"]/(dt2[\"Height (cm)\"]/100)**2,2)\n",
    "dt2.loc[:,\"BMI\"]=bmi\n",
    "dt2.tail()"
   ]
  },
  {
   "cell_type": "markdown",
   "id": "441f5c0d",
   "metadata": {},
   "source": [
    "Saving the updated dataset <b>Measuring Parameter_5000.xlsx</b>"
   ]
  },
  {
   "cell_type": "code",
   "execution_count": null,
   "id": "b0de58cd",
   "metadata": {},
   "outputs": [],
   "source": [
    "dt2.to_excel(\"DataSets/Measuring Parameter_5000.xlsx\",sheet_name=\"Measuring Parameter\",index=False)"
   ]
  },
  {
   "cell_type": "markdown",
   "id": "83c39584",
   "metadata": {},
   "source": [
    "#### \tForeArm Size (cm)\n",
    "Generating random values from 7.00 to 15.00"
   ]
  },
  {
   "cell_type": "code",
   "execution_count": null,
   "id": "1fc122d6",
   "metadata": {},
   "outputs": [],
   "source": [
    "arm = [rnd.randint(700,1500)/100 for i in range(5000)]"
   ]
  },
  {
   "cell_type": "markdown",
   "id": "752ee7d1",
   "metadata": {},
   "source": [
    "Filling <b>ForeArm Size (cm)</b> field"
   ]
  },
  {
   "cell_type": "code",
   "execution_count": null,
   "id": "df3019ed",
   "metadata": {},
   "outputs": [],
   "source": [
    "dt2[\"ForeArm Size (cm)\"]=arm\n",
    "dt2.head()"
   ]
  },
  {
   "cell_type": "markdown",
   "id": "77a363c3",
   "metadata": {},
   "source": [
    "##### Categorize Malnourishement by Forearm size\n",
    "arm size  0 - 11.5cm == SAM<br>\n",
    "          11.6 - 12.4cm == MAM<br>\n",
    "          12.5cm - 13.4     == EU<br>\n",
    "          13.5 - 15 NAM<br>\n"
   ]
  },
  {
   "cell_type": "code",
   "execution_count": null,
   "id": "3541c4c8",
   "metadata": {},
   "outputs": [],
   "source": [
    "com = []\n",
    "for i in arm:\n",
    "    if(i<=11.55):\n",
    "        com.append(\"SAM\")\n",
    "    elif(11.55<i and i<=12.45):\n",
    "        com.append(\"MAM\")\n",
    "    elif(12.45<i and i<=13.35):\n",
    "        com.append(\"EU\")\n",
    "    elif(13.35<i):\n",
    "        com.append(\"NAN\")\n",
    "dt2[\"Category of Malnourished Based on Arm Size\"]=com\n",
    "dt2.tail()"
   ]
  },
  {
   "cell_type": "markdown",
   "id": "49547e0f",
   "metadata": {},
   "source": [
    "#### HeartBeat Rate\n",
    "generating data for heart beat rate ranging from 70 to 160"
   ]
  },
  {
   "cell_type": "code",
   "execution_count": null,
   "id": "94363126",
   "metadata": {},
   "outputs": [],
   "source": [
    "hb= [rnd.randint(70,160) for i in range(5000)]"
   ]
  },
  {
   "cell_type": "markdown",
   "id": "9ab4e341",
   "metadata": {},
   "source": [
    "Fiiling <b>HeartBeat Rate</b>"
   ]
  },
  {
   "cell_type": "code",
   "execution_count": null,
   "id": "194fc194",
   "metadata": {},
   "outputs": [],
   "source": [
    "dt2[\"HeartBeat Rate\"] = hb\n",
    "dt2.head()"
   ]
  },
  {
   "cell_type": "markdown",
   "id": "7ed6386f",
   "metadata": {},
   "source": [
    "Rearrenging the dataset"
   ]
  },
  {
   "cell_type": "code",
   "execution_count": null,
   "id": "5157216a",
   "metadata": {},
   "outputs": [],
   "source": [
    "dt2=dt2[[\"Sr. No.\",\"Time\",\"Date\",\"Patient Id\",\"Height (cm)\",\"Weight (kg)\",\"ForeArm Size (cm)\",\"Category of Malnourished Based on Arm Size\",\"BMI\",\"HeartBeat Rate\"]]\n",
    "dt2.head(8)"
   ]
  },
  {
   "cell_type": "markdown",
   "id": "006b0a9c",
   "metadata": {},
   "source": [
    "Saving the updated dataset at <b>Measuring Parameter_5000.xlsx</b>"
   ]
  },
  {
   "cell_type": "code",
   "execution_count": null,
   "id": "f17b3b56",
   "metadata": {},
   "outputs": [],
   "source": [
    "dt2.to_excel(\"DataSets/Measuring Parameter_5000.xlsx\",sheet_name=\"Measuring Parameter\",index=False)"
   ]
  },
  {
   "cell_type": "markdown",
   "id": "10979315",
   "metadata": {},
   "source": [
    "Formatting Date as day-month-year"
   ]
  },
  {
   "cell_type": "code",
   "execution_count": null,
   "id": "1f4f790c",
   "metadata": {},
   "outputs": [],
   "source": [
    "date = dt2[\"Date\"].to_list()\n",
    "date1=[]\n",
    "for i in date:\n",
    "    date1.append(\"-\".join(i.split(\"-\")[::-1]))\n",
    "dt2[\"Date\"] = date1\n",
    "dt2.tail()"
   ]
  },
  {
   "cell_type": "markdown",
   "id": "75a8b26b",
   "metadata": {},
   "source": [
    "Finally Save the third sheet at <b>Measuring Parameter_5000.xlsx</b>"
   ]
  },
  {
   "cell_type": "code",
   "execution_count": null,
   "id": "2c609070",
   "metadata": {},
   "outputs": [],
   "source": [
    "dt2.to_excel(\"DataSets/Measuring Parameter_5000.xlsx\",sheet_name=\"Measuring Parameter\",index=False)"
   ]
  },
  {
   "cell_type": "markdown",
   "id": "30d1cbcd",
   "metadata": {},
   "source": [
    "# For Sheet_3, Result Output\n",
    "Coppying <b>Sr. No.</b> , <b>Patient Id</b> , <b>Time</b> and  <b>Date</b> from previous data sheet"
   ]
  },
  {
   "cell_type": "code",
   "execution_count": null,
   "id": "1c98f569",
   "metadata": {},
   "outputs": [],
   "source": [
    "dt3=pd.DataFrame({\"Sr. No.\":dt2[\"Sr. No.\"],\"Patient Id\":dt2[\"Patient Id\"],\"Time\":dt2[\"Time\"],\"Date\":dt2[\"Date\"]})\n",
    "dt3.head()"
   ]
  },
  {
   "cell_type": "markdown",
   "id": "5d8503c0",
   "metadata": {},
   "source": [
    "Saving the created data set at <b>Result Output_5000.xlsx</b>"
   ]
  },
  {
   "cell_type": "code",
   "execution_count": null,
   "id": "7604d28a",
   "metadata": {},
   "outputs": [],
   "source": [
    "dt3.to_excel(\"DataSets/Result Output_5000.xlsx\",sheet_name=\"Result Output\",index=False)"
   ]
  },
  {
   "cell_type": "markdown",
   "id": "cfcee31f",
   "metadata": {},
   "source": [
    "#### Malnourished or Not\n",
    "If one has <b>BMI</b> greater than 18.5 the he/she is not Malnourished otherwise Not</br>\n",
    "Making the field"
   ]
  },
  {
   "cell_type": "code",
   "execution_count": null,
   "id": "82a0e844",
   "metadata": {},
   "outputs": [],
   "source": [
    "malnr=dt2[\"BMI\"]<=18.5\n",
    "malnr=[\"Yes\" if i else \"No\" for i in malnr]\n",
    "dt3[\"Malnourished or Not\"]=malnr\n",
    "dt3.tail()"
   ]
  },
  {
   "cell_type": "markdown",
   "id": "82f46806",
   "metadata": {},
   "source": [
    "#### Type of Malnourishment\n",
    "Categorizing type of Malnourishment accoding to following conditions"
   ]
  },
  {
   "cell_type": "code",
   "execution_count": null,
   "id": "99fdb15c",
   "metadata": {},
   "outputs": [],
   "source": [
    "bmi = dt2[\"BMI\"].to_list()\n",
    "tm=[]\n",
    "for i in bmi:\n",
    "    if(i< 18.5):\n",
    "        tm.append(\"Under Weight\")\n",
    "    elif(18.5 <=i and i<24.9):\n",
    "        tm.append(\"Normal\")\n",
    "    elif(24.9 <=i and i <29.9):\n",
    "        tm.append(\"Over weight\")\n",
    "    elif(29.9 <= i and i<35):\n",
    "        tm.append(\"Obesity\")\n",
    "dt3[\"Type of Malnourishment\"]=tm\n",
    "dt3.head()"
   ]
  },
  {
   "cell_type": "markdown",
   "id": "2c85a87c",
   "metadata": {},
   "source": [
    "Saving the updated dataset"
   ]
  },
  {
   "cell_type": "code",
   "execution_count": null,
   "id": "a1b40450",
   "metadata": {},
   "outputs": [],
   "source": [
    "dt3.to_excel(\"DataSets/Result Output_5000.xlsx\",sheet_name=\"Result Output\",index=False)"
   ]
  },
  {
   "cell_type": "markdown",
   "id": "583283ec",
   "metadata": {},
   "source": [
    "Now we have 3 files\n",
    "<ol>\n",
    "    <li>Patient Record_5000.xlsx</li>\n",
    "    <li>Measuring Parameter_5000.xlsx</li>\n",
    "    <li>Result Output_5000.xlsx</li>\n",
    "</ol>\n",
    "at \"./DataSets\"  are required datasets"
   ]
  },
  {
   "cell_type": "code",
   "execution_count": null,
   "id": "5748d29d",
   "metadata": {},
   "outputs": [],
   "source": []
  },
  {
   "cell_type": "code",
   "execution_count": null,
   "id": "a702e340",
   "metadata": {},
   "outputs": [],
   "source": []
  },
  {
   "cell_type": "code",
   "execution_count": null,
   "id": "3cb5188e",
   "metadata": {},
   "outputs": [],
   "source": []
  },
  {
   "cell_type": "code",
   "execution_count": null,
   "id": "4e597231",
   "metadata": {},
   "outputs": [],
   "source": []
  }
 ],
 "metadata": {
  "kernelspec": {
   "display_name": "Python 3 (ipykernel)",
   "language": "python",
   "name": "python3"
  },
  "language_info": {
   "codemirror_mode": {
    "name": "ipython",
    "version": 3
   },
   "file_extension": ".py",
   "mimetype": "text/x-python",
   "name": "python",
   "nbconvert_exporter": "python",
   "pygments_lexer": "ipython3",
   "version": "3.11.5"
  }
 },
 "nbformat": 4,
 "nbformat_minor": 5
}
