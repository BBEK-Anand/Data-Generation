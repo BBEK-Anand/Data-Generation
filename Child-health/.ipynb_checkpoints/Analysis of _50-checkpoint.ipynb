{
 "cells": [
  {
   "cell_type": "markdown",
   "id": "f73d258e",
   "metadata": {},
   "source": [
    "# Data Analysis"
   ]
  },
  {
   "cell_type": "markdown",
   "id": "dd2dc9c6",
   "metadata": {},
   "source": [
    "importing libreries"
   ]
  },
  {
   "cell_type": "code",
   "execution_count": 34,
   "id": "58deeedf",
   "metadata": {},
   "outputs": [],
   "source": [
    "import matplotlib.pyplot as plt\n",
    "import pandas as pd\n",
    "import numpy as np"
   ]
  },
  {
   "cell_type": "markdown",
   "id": "fa4808f1",
   "metadata": {},
   "source": [
    "importing sheet 1"
   ]
  },
  {
   "cell_type": "code",
   "execution_count": 35,
   "id": "4642a226",
   "metadata": {
    "scrolled": false
   },
   "outputs": [
    {
     "data": {
      "text/html": [
       "<div>\n",
       "<style scoped>\n",
       "    .dataframe tbody tr th:only-of-type {\n",
       "        vertical-align: middle;\n",
       "    }\n",
       "\n",
       "    .dataframe tbody tr th {\n",
       "        vertical-align: top;\n",
       "    }\n",
       "\n",
       "    .dataframe thead th {\n",
       "        text-align: right;\n",
       "    }\n",
       "</style>\n",
       "<table border=\"1\" class=\"dataframe\">\n",
       "  <thead>\n",
       "    <tr style=\"text-align: right;\">\n",
       "      <th></th>\n",
       "      <th>Sr. No.</th>\n",
       "      <th>Patient Id</th>\n",
       "      <th>Name of Patient</th>\n",
       "      <th>Adhar ID</th>\n",
       "      <th>DOB</th>\n",
       "      <th>Parent ID</th>\n",
       "      <th>Contact No.</th>\n",
       "      <th>Address</th>\n",
       "    </tr>\n",
       "  </thead>\n",
       "  <tbody>\n",
       "    <tr>\n",
       "      <th>40</th>\n",
       "      <td>41</td>\n",
       "      <td>RajMah041</td>\n",
       "      <td>Meena Kanwar Rajput</td>\n",
       "      <td>7332 9104 2268</td>\n",
       "      <td>17-02-2022</td>\n",
       "      <td>RajMahP041</td>\n",
       "      <td>+91 89173 96452</td>\n",
       "      <td>Etapalli</td>\n",
       "    </tr>\n",
       "    <tr>\n",
       "      <th>41</th>\n",
       "      <td>42</td>\n",
       "      <td>RajMah042</td>\n",
       "      <td>Arman Ansari</td>\n",
       "      <td>7470 2702 0217</td>\n",
       "      <td>18-03-2023</td>\n",
       "      <td>RajMahP042</td>\n",
       "      <td>+91 61279 57206</td>\n",
       "      <td>Etapalli</td>\n",
       "    </tr>\n",
       "    <tr>\n",
       "      <th>42</th>\n",
       "      <td>43</td>\n",
       "      <td>RajMah043</td>\n",
       "      <td>Md Noori</td>\n",
       "      <td>5564 7191 9476</td>\n",
       "      <td>24-02-2022</td>\n",
       "      <td>RajMahP043</td>\n",
       "      <td>+91 61217 36224</td>\n",
       "      <td>Rajura</td>\n",
       "    </tr>\n",
       "    <tr>\n",
       "      <th>43</th>\n",
       "      <td>44</td>\n",
       "      <td>RajMah044</td>\n",
       "      <td>Kumari Reena</td>\n",
       "      <td>2968 4492 0292</td>\n",
       "      <td>27-09-2022</td>\n",
       "      <td>RajMahP044</td>\n",
       "      <td>+91 61279 18810</td>\n",
       "      <td>Aheri</td>\n",
       "    </tr>\n",
       "    <tr>\n",
       "      <th>44</th>\n",
       "      <td>45</td>\n",
       "      <td>RajMah045</td>\n",
       "      <td>Vikash Gaud</td>\n",
       "      <td>6752 1775 9088</td>\n",
       "      <td>02-01-2023</td>\n",
       "      <td>RajMahP045</td>\n",
       "      <td>+91 788 754 1396</td>\n",
       "      <td>Aheri</td>\n",
       "    </tr>\n",
       "    <tr>\n",
       "      <th>45</th>\n",
       "      <td>46</td>\n",
       "      <td>RajMah046</td>\n",
       "      <td>Saurabh Beeryani</td>\n",
       "      <td>2669 6584 6862</td>\n",
       "      <td>10-01-2023</td>\n",
       "      <td>RajMahP046</td>\n",
       "      <td>+91 74476 37119</td>\n",
       "      <td>Aheri</td>\n",
       "    </tr>\n",
       "    <tr>\n",
       "      <th>46</th>\n",
       "      <td>47</td>\n",
       "      <td>RajMah047</td>\n",
       "      <td>Upender Khandelwal</td>\n",
       "      <td>8476 3266 0253</td>\n",
       "      <td>01-02-2023</td>\n",
       "      <td>RajMahP047</td>\n",
       "      <td>+91 79313 00662</td>\n",
       "      <td>Rajura</td>\n",
       "    </tr>\n",
       "    <tr>\n",
       "      <th>47</th>\n",
       "      <td>48</td>\n",
       "      <td>RajMah048</td>\n",
       "      <td>Preety Hans</td>\n",
       "      <td>5551 6057 0064</td>\n",
       "      <td>19-10-2022</td>\n",
       "      <td>RajMahP048</td>\n",
       "      <td>+91 61279 65206</td>\n",
       "      <td>Etapalli</td>\n",
       "    </tr>\n",
       "    <tr>\n",
       "      <th>48</th>\n",
       "      <td>49</td>\n",
       "      <td>RajMah049</td>\n",
       "      <td>Tara Parshad</td>\n",
       "      <td>2048 6014 1774</td>\n",
       "      <td>05-02-2023</td>\n",
       "      <td>RajMahP049</td>\n",
       "      <td>+91 81694 10401</td>\n",
       "      <td>Aheri</td>\n",
       "    </tr>\n",
       "    <tr>\n",
       "      <th>49</th>\n",
       "      <td>50</td>\n",
       "      <td>RajMah050</td>\n",
       "      <td>Abdul Kader</td>\n",
       "      <td>2168 6089 4783</td>\n",
       "      <td>28-03-2023</td>\n",
       "      <td>RajMahP050</td>\n",
       "      <td>+91 67108 96197</td>\n",
       "      <td>Gadchiroli</td>\n",
       "    </tr>\n",
       "  </tbody>\n",
       "</table>\n",
       "</div>"
      ],
      "text/plain": [
       "    Sr. No. Patient Id      Name of Patient        Adhar ID         DOB  \\\n",
       "40       41  RajMah041  Meena Kanwar Rajput  7332 9104 2268  17-02-2022   \n",
       "41       42  RajMah042         Arman Ansari  7470 2702 0217  18-03-2023   \n",
       "42       43  RajMah043             Md Noori  5564 7191 9476  24-02-2022   \n",
       "43       44  RajMah044         Kumari Reena  2968 4492 0292  27-09-2022   \n",
       "44       45  RajMah045          Vikash Gaud  6752 1775 9088  02-01-2023   \n",
       "45       46  RajMah046     Saurabh Beeryani  2669 6584 6862  10-01-2023   \n",
       "46       47  RajMah047   Upender Khandelwal  8476 3266 0253  01-02-2023   \n",
       "47       48  RajMah048          Preety Hans  5551 6057 0064  19-10-2022   \n",
       "48       49  RajMah049         Tara Parshad  2048 6014 1774  05-02-2023   \n",
       "49       50  RajMah050          Abdul Kader  2168 6089 4783  28-03-2023   \n",
       "\n",
       "     Parent ID       Contact No.     Address  \n",
       "40  RajMahP041   +91 89173 96452    Etapalli  \n",
       "41  RajMahP042   +91 61279 57206    Etapalli  \n",
       "42  RajMahP043   +91 61217 36224      Rajura  \n",
       "43  RajMahP044   +91 61279 18810       Aheri  \n",
       "44  RajMahP045  +91 788 754 1396       Aheri  \n",
       "45  RajMahP046   +91 74476 37119       Aheri  \n",
       "46  RajMahP047   +91 79313 00662      Rajura  \n",
       "47  RajMahP048   +91 61279 65206    Etapalli  \n",
       "48  RajMahP049   +91 81694 10401       Aheri  \n",
       "49  RajMahP050   +91 67108 96197  Gadchiroli  "
      ]
     },
     "execution_count": 35,
     "metadata": {},
     "output_type": "execute_result"
    }
   ],
   "source": [
    "dt=pd.read_excel(\"DataSets/Patient Record_50.xlsx\",sheet_name=\"Patient Record\")\n",
    "dt.tail(10)"
   ]
  },
  {
   "cell_type": "markdown",
   "id": "a94fc016",
   "metadata": {},
   "source": [
    "importing sheet 2"
   ]
  },
  {
   "cell_type": "code",
   "execution_count": 36,
   "id": "81e82cef",
   "metadata": {},
   "outputs": [
    {
     "data": {
      "text/html": [
       "<div>\n",
       "<style scoped>\n",
       "    .dataframe tbody tr th:only-of-type {\n",
       "        vertical-align: middle;\n",
       "    }\n",
       "\n",
       "    .dataframe tbody tr th {\n",
       "        vertical-align: top;\n",
       "    }\n",
       "\n",
       "    .dataframe thead th {\n",
       "        text-align: right;\n",
       "    }\n",
       "</style>\n",
       "<table border=\"1\" class=\"dataframe\">\n",
       "  <thead>\n",
       "    <tr style=\"text-align: right;\">\n",
       "      <th></th>\n",
       "      <th>Sr.No.</th>\n",
       "      <th>Time</th>\n",
       "      <th>Date</th>\n",
       "      <th>Patient Id</th>\n",
       "      <th>Height (cm)</th>\n",
       "      <th>Weight (kg)</th>\n",
       "      <th>ForeArm Size (cm)</th>\n",
       "      <th>Category of Malnourished Based on Arm Size</th>\n",
       "      <th>BMI</th>\n",
       "      <th>HeartBeat Rate</th>\n",
       "    </tr>\n",
       "  </thead>\n",
       "  <tbody>\n",
       "    <tr>\n",
       "      <th>0</th>\n",
       "      <td>1</td>\n",
       "      <td>15:54</td>\n",
       "      <td>12-09-2023</td>\n",
       "      <td>RajMah001</td>\n",
       "      <td>82.94</td>\n",
       "      <td>11.35</td>\n",
       "      <td>14.99</td>\n",
       "      <td>NAN</td>\n",
       "      <td>16.50</td>\n",
       "      <td>85</td>\n",
       "    </tr>\n",
       "    <tr>\n",
       "      <th>1</th>\n",
       "      <td>2</td>\n",
       "      <td>10:10</td>\n",
       "      <td>13-09-2023</td>\n",
       "      <td>RajMah002</td>\n",
       "      <td>95.46</td>\n",
       "      <td>12.47</td>\n",
       "      <td>11.78</td>\n",
       "      <td>MAM</td>\n",
       "      <td>13.68</td>\n",
       "      <td>96</td>\n",
       "    </tr>\n",
       "    <tr>\n",
       "      <th>2</th>\n",
       "      <td>3</td>\n",
       "      <td>10:40</td>\n",
       "      <td>13-09-2023</td>\n",
       "      <td>RajMah003</td>\n",
       "      <td>88.71</td>\n",
       "      <td>11.59</td>\n",
       "      <td>14.13</td>\n",
       "      <td>NAN</td>\n",
       "      <td>14.73</td>\n",
       "      <td>126</td>\n",
       "    </tr>\n",
       "    <tr>\n",
       "      <th>3</th>\n",
       "      <td>4</td>\n",
       "      <td>11:10</td>\n",
       "      <td>13-09-2023</td>\n",
       "      <td>RajMah004</td>\n",
       "      <td>90.25</td>\n",
       "      <td>19.54</td>\n",
       "      <td>11.74</td>\n",
       "      <td>MAM</td>\n",
       "      <td>23.99</td>\n",
       "      <td>82</td>\n",
       "    </tr>\n",
       "    <tr>\n",
       "      <th>4</th>\n",
       "      <td>5</td>\n",
       "      <td>11:20</td>\n",
       "      <td>15-09-2023</td>\n",
       "      <td>RajMah005</td>\n",
       "      <td>89.24</td>\n",
       "      <td>15.98</td>\n",
       "      <td>10.81</td>\n",
       "      <td>SAM</td>\n",
       "      <td>20.07</td>\n",
       "      <td>99</td>\n",
       "    </tr>\n",
       "  </tbody>\n",
       "</table>\n",
       "</div>"
      ],
      "text/plain": [
       "   Sr.No.   Time        Date Patient Id  Height (cm)  Weight (kg)  \\\n",
       "0       1  15:54  12-09-2023  RajMah001        82.94        11.35   \n",
       "1       2  10:10  13-09-2023  RajMah002        95.46        12.47   \n",
       "2       3  10:40  13-09-2023  RajMah003        88.71        11.59   \n",
       "3       4  11:10  13-09-2023  RajMah004        90.25        19.54   \n",
       "4       5  11:20  15-09-2023  RajMah005        89.24        15.98   \n",
       "\n",
       "   ForeArm Size (cm) Category of Malnourished Based on Arm Size    BMI  \\\n",
       "0              14.99                                        NAN  16.50   \n",
       "1              11.78                                        MAM  13.68   \n",
       "2              14.13                                        NAN  14.73   \n",
       "3              11.74                                        MAM  23.99   \n",
       "4              10.81                                        SAM  20.07   \n",
       "\n",
       "   HeartBeat Rate  \n",
       "0              85  \n",
       "1              96  \n",
       "2             126  \n",
       "3              82  \n",
       "4              99  "
      ]
     },
     "execution_count": 36,
     "metadata": {},
     "output_type": "execute_result"
    }
   ],
   "source": [
    "dt2=pd.read_excel(\"DataSets/Measuring Parameter_50.xlsx\",sheet_name=\"Measuring Parameter\")\n",
    "dt2.head()"
   ]
  },
  {
   "cell_type": "markdown",
   "id": "ddf3f1b2",
   "metadata": {},
   "source": [
    "importing 3rd sheet"
   ]
  },
  {
   "cell_type": "code",
   "execution_count": 37,
   "id": "48d2729d",
   "metadata": {},
   "outputs": [
    {
     "data": {
      "text/html": [
       "<div>\n",
       "<style scoped>\n",
       "    .dataframe tbody tr th:only-of-type {\n",
       "        vertical-align: middle;\n",
       "    }\n",
       "\n",
       "    .dataframe tbody tr th {\n",
       "        vertical-align: top;\n",
       "    }\n",
       "\n",
       "    .dataframe thead th {\n",
       "        text-align: right;\n",
       "    }\n",
       "</style>\n",
       "<table border=\"1\" class=\"dataframe\">\n",
       "  <thead>\n",
       "    <tr style=\"text-align: right;\">\n",
       "      <th></th>\n",
       "      <th>Sr.No.</th>\n",
       "      <th>Patient Id</th>\n",
       "      <th>Time</th>\n",
       "      <th>Date</th>\n",
       "      <th>Malnourished or Not</th>\n",
       "      <th>Type of Malnourishment</th>\n",
       "      <th>Precautionary Measures</th>\n",
       "    </tr>\n",
       "  </thead>\n",
       "  <tbody>\n",
       "    <tr>\n",
       "      <th>0</th>\n",
       "      <td>1</td>\n",
       "      <td>RajMah001</td>\n",
       "      <td>15:54</td>\n",
       "      <td>12-09-2023</td>\n",
       "      <td>Yes</td>\n",
       "      <td>Under Weight</td>\n",
       "      <td>NaN</td>\n",
       "    </tr>\n",
       "    <tr>\n",
       "      <th>1</th>\n",
       "      <td>2</td>\n",
       "      <td>RajMah002</td>\n",
       "      <td>10:10</td>\n",
       "      <td>13-09-2023</td>\n",
       "      <td>Yes</td>\n",
       "      <td>Under Weight</td>\n",
       "      <td>NaN</td>\n",
       "    </tr>\n",
       "    <tr>\n",
       "      <th>2</th>\n",
       "      <td>3</td>\n",
       "      <td>RajMah003</td>\n",
       "      <td>10:40</td>\n",
       "      <td>13-09-2023</td>\n",
       "      <td>Yes</td>\n",
       "      <td>Under Weight</td>\n",
       "      <td>NaN</td>\n",
       "    </tr>\n",
       "    <tr>\n",
       "      <th>3</th>\n",
       "      <td>4</td>\n",
       "      <td>RajMah004</td>\n",
       "      <td>11:10</td>\n",
       "      <td>13-09-2023</td>\n",
       "      <td>No</td>\n",
       "      <td>Normal</td>\n",
       "      <td>NaN</td>\n",
       "    </tr>\n",
       "    <tr>\n",
       "      <th>4</th>\n",
       "      <td>5</td>\n",
       "      <td>RajMah005</td>\n",
       "      <td>11:20</td>\n",
       "      <td>15-09-2023</td>\n",
       "      <td>No</td>\n",
       "      <td>Normal</td>\n",
       "      <td>NaN</td>\n",
       "    </tr>\n",
       "  </tbody>\n",
       "</table>\n",
       "</div>"
      ],
      "text/plain": [
       "   Sr.No. Patient Id   Time        Date Malnourished or Not  \\\n",
       "0       1  RajMah001  15:54  12-09-2023                 Yes   \n",
       "1       2  RajMah002  10:10  13-09-2023                 Yes   \n",
       "2       3  RajMah003  10:40  13-09-2023                 Yes   \n",
       "3       4  RajMah004  11:10  13-09-2023                  No   \n",
       "4       5  RajMah005  11:20  15-09-2023                  No   \n",
       "\n",
       "  Type of Malnourishment  Precautionary Measures  \n",
       "0           Under Weight                     NaN  \n",
       "1           Under Weight                     NaN  \n",
       "2           Under Weight                     NaN  \n",
       "3                 Normal                     NaN  \n",
       "4                 Normal                     NaN  "
      ]
     },
     "execution_count": 37,
     "metadata": {},
     "output_type": "execute_result"
    }
   ],
   "source": [
    "dt3 = pd.read_excel(\"DataSets/Result Output_50.xlsx\",sheet_name=\"Result Output\")\n",
    "dt3.head()"
   ]
  },
  {
   "cell_type": "markdown",
   "id": "fcb184bf",
   "metadata": {},
   "source": [
    "importing libreries for ploting"
   ]
  },
  {
   "cell_type": "code",
   "execution_count": 38,
   "id": "1bd22125",
   "metadata": {},
   "outputs": [],
   "source": [
    "import matplotlib.pyplot as plt\n",
    "import seaborn as sns"
   ]
  },
  {
   "cell_type": "markdown",
   "id": "518533b5",
   "metadata": {},
   "source": [
    "## Visualizing the regions of Type of Malnourishment"
   ]
  },
  {
   "cell_type": "code",
   "execution_count": 39,
   "id": "5da1b035",
   "metadata": {},
   "outputs": [
    {
     "data": {
      "text/html": [
       "<div>\n",
       "<style scoped>\n",
       "    .dataframe tbody tr th:only-of-type {\n",
       "        vertical-align: middle;\n",
       "    }\n",
       "\n",
       "    .dataframe tbody tr th {\n",
       "        vertical-align: top;\n",
       "    }\n",
       "\n",
       "    .dataframe thead th {\n",
       "        text-align: right;\n",
       "    }\n",
       "</style>\n",
       "<table border=\"1\" class=\"dataframe\">\n",
       "  <thead>\n",
       "    <tr style=\"text-align: right;\">\n",
       "      <th></th>\n",
       "      <th>Height</th>\n",
       "      <th>Weight</th>\n",
       "      <th>ToM</th>\n",
       "    </tr>\n",
       "  </thead>\n",
       "  <tbody>\n",
       "    <tr>\n",
       "      <th>0</th>\n",
       "      <td>82.94</td>\n",
       "      <td>11.35</td>\n",
       "      <td>Under Weight</td>\n",
       "    </tr>\n",
       "    <tr>\n",
       "      <th>1</th>\n",
       "      <td>95.46</td>\n",
       "      <td>12.47</td>\n",
       "      <td>Under Weight</td>\n",
       "    </tr>\n",
       "    <tr>\n",
       "      <th>2</th>\n",
       "      <td>88.71</td>\n",
       "      <td>11.59</td>\n",
       "      <td>Under Weight</td>\n",
       "    </tr>\n",
       "    <tr>\n",
       "      <th>3</th>\n",
       "      <td>90.25</td>\n",
       "      <td>19.54</td>\n",
       "      <td>Normal</td>\n",
       "    </tr>\n",
       "    <tr>\n",
       "      <th>4</th>\n",
       "      <td>89.24</td>\n",
       "      <td>15.98</td>\n",
       "      <td>Normal</td>\n",
       "    </tr>\n",
       "  </tbody>\n",
       "</table>\n",
       "</div>"
      ],
      "text/plain": [
       "   Height  Weight           ToM\n",
       "0   82.94   11.35  Under Weight\n",
       "1   95.46   12.47  Under Weight\n",
       "2   88.71   11.59  Under Weight\n",
       "3   90.25   19.54        Normal\n",
       "4   89.24   15.98        Normal"
      ]
     },
     "execution_count": 39,
     "metadata": {},
     "output_type": "execute_result"
    }
   ],
   "source": [
    "tdf = pd.DataFrame()\n",
    "tdf[\"Height\"]=dt2[\"Height (cm)\"]\n",
    "tdf[\"Weight\"] = dt2[\"Weight (kg)\"]\n",
    "tdf[\"ToM\"] = dt3[\"Type of Malnourishment\"]\n",
    "tdf.head()"
   ]
  },
  {
   "cell_type": "code",
   "execution_count": 40,
   "id": "16498ca0",
   "metadata": {},
   "outputs": [
    {
     "data": {
      "text/plain": [
       "array(['Under Weight', 'Normal', 'Over weight'], dtype=object)"
      ]
     },
     "execution_count": 40,
     "metadata": {},
     "output_type": "execute_result"
    }
   ],
   "source": [
    "tdf[\"ToM\"].unique()"
   ]
  },
  {
   "cell_type": "code",
   "execution_count": 41,
   "id": "ca78b7e2",
   "metadata": {},
   "outputs": [
    {
     "data": {
      "text/html": [
       "<div>\n",
       "<style scoped>\n",
       "    .dataframe tbody tr th:only-of-type {\n",
       "        vertical-align: middle;\n",
       "    }\n",
       "\n",
       "    .dataframe tbody tr th {\n",
       "        vertical-align: top;\n",
       "    }\n",
       "\n",
       "    .dataframe thead th {\n",
       "        text-align: right;\n",
       "    }\n",
       "</style>\n",
       "<table border=\"1\" class=\"dataframe\">\n",
       "  <thead>\n",
       "    <tr style=\"text-align: right;\">\n",
       "      <th></th>\n",
       "      <th>Height</th>\n",
       "      <th>Weight</th>\n",
       "      <th>ToM</th>\n",
       "    </tr>\n",
       "  </thead>\n",
       "  <tbody>\n",
       "    <tr>\n",
       "      <th>17</th>\n",
       "      <td>81.97</td>\n",
       "      <td>18.29</td>\n",
       "      <td>Over weight</td>\n",
       "    </tr>\n",
       "  </tbody>\n",
       "</table>\n",
       "</div>"
      ],
      "text/plain": [
       "    Height  Weight          ToM\n",
       "17   81.97   18.29  Over weight"
      ]
     },
     "execution_count": 41,
     "metadata": {},
     "output_type": "execute_result"
    }
   ],
   "source": [
    "tdf[tdf[\"ToM\"]==\"Over weight\"]"
   ]
  },
  {
   "cell_type": "code",
   "execution_count": 42,
   "id": "2ac5807e",
   "metadata": {},
   "outputs": [],
   "source": [
    "from sklearn.linear_model import LogisticRegression\n",
    "from sklearn.preprocessing import LabelEncoder\n",
    "from matplotlib.colors import ListedColormap\n",
    "from sklearn.preprocessing import LabelEncoder"
   ]
  },
  {
   "cell_type": "markdown",
   "id": "95b813a7",
   "metadata": {},
   "source": [
    "preparing data to use ML"
   ]
  },
  {
   "cell_type": "code",
   "execution_count": 43,
   "id": "68a766ea",
   "metadata": {},
   "outputs": [],
   "source": [
    "X1 = tdf.loc[:,[\"Height\",\"Weight\"]].values\n",
    "y1 = tdf[\"ToM\"].values\n",
    "y1 = LabelEncoder().fit_transform(y1)  # encoding "
   ]
  },
  {
   "cell_type": "markdown",
   "id": "bbacf0f7",
   "metadata": {},
   "source": [
    "initializing Logistic Regression Model"
   ]
  },
  {
   "cell_type": "code",
   "execution_count": 44,
   "id": "f8e620eb",
   "metadata": {},
   "outputs": [
    {
     "data": {
      "text/html": [
       "<style>#sk-container-id-2 {color: black;}#sk-container-id-2 pre{padding: 0;}#sk-container-id-2 div.sk-toggleable {background-color: white;}#sk-container-id-2 label.sk-toggleable__label {cursor: pointer;display: block;width: 100%;margin-bottom: 0;padding: 0.3em;box-sizing: border-box;text-align: center;}#sk-container-id-2 label.sk-toggleable__label-arrow:before {content: \"▸\";float: left;margin-right: 0.25em;color: #696969;}#sk-container-id-2 label.sk-toggleable__label-arrow:hover:before {color: black;}#sk-container-id-2 div.sk-estimator:hover label.sk-toggleable__label-arrow:before {color: black;}#sk-container-id-2 div.sk-toggleable__content {max-height: 0;max-width: 0;overflow: hidden;text-align: left;background-color: #f0f8ff;}#sk-container-id-2 div.sk-toggleable__content pre {margin: 0.2em;color: black;border-radius: 0.25em;background-color: #f0f8ff;}#sk-container-id-2 input.sk-toggleable__control:checked~div.sk-toggleable__content {max-height: 200px;max-width: 100%;overflow: auto;}#sk-container-id-2 input.sk-toggleable__control:checked~label.sk-toggleable__label-arrow:before {content: \"▾\";}#sk-container-id-2 div.sk-estimator input.sk-toggleable__control:checked~label.sk-toggleable__label {background-color: #d4ebff;}#sk-container-id-2 div.sk-label input.sk-toggleable__control:checked~label.sk-toggleable__label {background-color: #d4ebff;}#sk-container-id-2 input.sk-hidden--visually {border: 0;clip: rect(1px 1px 1px 1px);clip: rect(1px, 1px, 1px, 1px);height: 1px;margin: -1px;overflow: hidden;padding: 0;position: absolute;width: 1px;}#sk-container-id-2 div.sk-estimator {font-family: monospace;background-color: #f0f8ff;border: 1px dotted black;border-radius: 0.25em;box-sizing: border-box;margin-bottom: 0.5em;}#sk-container-id-2 div.sk-estimator:hover {background-color: #d4ebff;}#sk-container-id-2 div.sk-parallel-item::after {content: \"\";width: 100%;border-bottom: 1px solid gray;flex-grow: 1;}#sk-container-id-2 div.sk-label:hover label.sk-toggleable__label {background-color: #d4ebff;}#sk-container-id-2 div.sk-serial::before {content: \"\";position: absolute;border-left: 1px solid gray;box-sizing: border-box;top: 0;bottom: 0;left: 50%;z-index: 0;}#sk-container-id-2 div.sk-serial {display: flex;flex-direction: column;align-items: center;background-color: white;padding-right: 0.2em;padding-left: 0.2em;position: relative;}#sk-container-id-2 div.sk-item {position: relative;z-index: 1;}#sk-container-id-2 div.sk-parallel {display: flex;align-items: stretch;justify-content: center;background-color: white;position: relative;}#sk-container-id-2 div.sk-item::before, #sk-container-id-2 div.sk-parallel-item::before {content: \"\";position: absolute;border-left: 1px solid gray;box-sizing: border-box;top: 0;bottom: 0;left: 50%;z-index: -1;}#sk-container-id-2 div.sk-parallel-item {display: flex;flex-direction: column;z-index: 1;position: relative;background-color: white;}#sk-container-id-2 div.sk-parallel-item:first-child::after {align-self: flex-end;width: 50%;}#sk-container-id-2 div.sk-parallel-item:last-child::after {align-self: flex-start;width: 50%;}#sk-container-id-2 div.sk-parallel-item:only-child::after {width: 0;}#sk-container-id-2 div.sk-dashed-wrapped {border: 1px dashed gray;margin: 0 0.4em 0.5em 0.4em;box-sizing: border-box;padding-bottom: 0.4em;background-color: white;}#sk-container-id-2 div.sk-label label {font-family: monospace;font-weight: bold;display: inline-block;line-height: 1.2em;}#sk-container-id-2 div.sk-label-container {text-align: center;}#sk-container-id-2 div.sk-container {/* jupyter's `normalize.less` sets `[hidden] { display: none; }` but bootstrap.min.css set `[hidden] { display: none !important; }` so we also need the `!important` here to be able to override the default hidden behavior on the sphinx rendered scikit-learn.org. See: https://github.com/scikit-learn/scikit-learn/issues/21755 */display: inline-block !important;position: relative;}#sk-container-id-2 div.sk-text-repr-fallback {display: none;}</style><div id=\"sk-container-id-2\" class=\"sk-top-container\"><div class=\"sk-text-repr-fallback\"><pre>LogisticRegression(max_iter=900)</pre><b>In a Jupyter environment, please rerun this cell to show the HTML representation or trust the notebook. <br />On GitHub, the HTML representation is unable to render, please try loading this page with nbviewer.org.</b></div><div class=\"sk-container\" hidden><div class=\"sk-item\"><div class=\"sk-estimator sk-toggleable\"><input class=\"sk-toggleable__control sk-hidden--visually\" id=\"sk-estimator-id-2\" type=\"checkbox\" checked><label for=\"sk-estimator-id-2\" class=\"sk-toggleable__label sk-toggleable__label-arrow\">LogisticRegression</label><div class=\"sk-toggleable__content\"><pre>LogisticRegression(max_iter=900)</pre></div></div></div></div></div>"
      ],
      "text/plain": [
       "LogisticRegression(max_iter=900)"
      ]
     },
     "execution_count": 44,
     "metadata": {},
     "output_type": "execute_result"
    }
   ],
   "source": [
    "lgm = LogisticRegression(fit_intercept=True,max_iter=900)\n",
    "lgm.fit(X1,y1)"
   ]
  },
  {
   "cell_type": "markdown",
   "id": "9e820c5e",
   "metadata": {},
   "source": [
    "Plotting the region"
   ]
  },
  {
   "cell_type": "code",
   "execution_count": 45,
   "id": "f0093fdc",
   "metadata": {},
   "outputs": [
    {
     "data": {
      "image/png": "[encoded data removed]",
      "text/plain": [
       "<Figure size 640x480 with 1 Axes>"
      ]
     },
     "metadata": {},
     "output_type": "display_data"
    }
   ],
   "source": [
    "\n",
    "\n",
    "x1,x2 = np.meshgrid(np.arange(start = X1[:,0].min()-3, stop =X1[:,0].max()+3,step = 0.01),\n",
    "                np.arange(start = X1[:,1].min()-3, stop =X1[:,1].max()+3,step = 0.01))\n",
    "\n",
    "plt.contourf(x1,x2,\n",
    "            lgm.predict(np.array([x1.ravel(),x2.ravel()]).T).reshape(x1.shape),\n",
    "            alpha = 0.5, cmap=ListedColormap([\"green\",\"blue\",\"red\"]))\n",
    "plt.xlim(X1[:,0].min()-2, X1[:,0].max()+2)\n",
    "plt.ylim(X1[:,1].min()-2, X1[:,1].max()+2)\n",
    "plt.scatter(\n",
    "    tdf[tdf[\"ToM\"]==\"Over weight\"][\"Height\"],\n",
    "    tdf[tdf[\"ToM\"]==\"Over weight\"][\"Weight\"],\n",
    "    marker=\"s\",\n",
    "    c=\"blue\")\n",
    "plt.scatter(\n",
    "    tdf[tdf[\"ToM\"]==\"Normal\"][\"Height\"],\n",
    "    tdf[tdf[\"ToM\"]==\"Normal\"][\"Weight\"],\n",
    "    marker=\"v\",\n",
    "    c=\"green\")\n",
    "plt.scatter(\n",
    "    tdf[tdf[\"ToM\"]==\"Under Weight\"][\"Height\"],\n",
    "    tdf[tdf[\"ToM\"]==\"Under Weight\"][\"Weight\"],\n",
    "    marker=\"o\",\n",
    "    c=\"red\")\n",
    "plt.legend([\"Under Weight\",\"Normal\",\"Over weight\"])\n",
    "plt.xlabel(\"Height (cm)\")\n",
    "plt.ylabel(\"Weight (kg)\")\n",
    "plt.title(\n",
    "    \"Malnourishment representation using Multi class Logistic- Regression\")\n",
    "plt.show()"
   ]
  },
  {
   "cell_type": "code",
   "execution_count": null,
   "id": "087fe395",
   "metadata": {},
   "outputs": [],
   "source": []
  },
  {
   "cell_type": "code",
   "execution_count": 49,
   "id": "6a1feac9",
   "metadata": {},
   "outputs": [],
   "source": [
    "# # for i,j in enumerate(zip(dt2[\"ForeArm Size (cm)\"],dt2[\"BMI\"])):\n",
    "# plt.scatter(dt2.loc[dt3[\"Malnourished or Not\"]==\"Yes\",\"ForeArm Size (cm)\"],dt2.loc[dt3[\"Malnourished or Not\"]==\"Yes\",\"BMI\"],marker=\"v\",label=\"Yes\")\n",
    "\n",
    "# plt.scatter(dt2.loc[dt3[\"Malnourished or Not\"]==\"No\",\"ForeArm Size (cm)\"],dt2.loc[dt3[\"Malnourished or Not\"]==\"No\",\"BMI\"],marker=\"x\",label=\"No\")\n",
    "\n",
    "\n",
    "\n",
    "\n",
    "# plt.legend()\n",
    "# plt.xlabel(\"ForeArm Size (cm)\")\n",
    "# plt.ylabel(\"BMI\")\n"
   ]
  },
  {
   "cell_type": "code",
   "execution_count": 47,
   "id": "8996f54f",
   "metadata": {},
   "outputs": [
    {
     "data": {
      "text/plain": [
       "array(['EU', 'MAM', 'NAN', 'SAM'], dtype=object)"
      ]
     },
     "execution_count": 47,
     "metadata": {},
     "output_type": "execute_result"
    }
   ],
   "source": [
    "np.unique(dt2[\"Category of Malnourished Based on Arm Size\"].values)\n"
   ]
  },
  {
   "cell_type": "code",
   "execution_count": 48,
   "id": "853fbc98",
   "metadata": {
    "scrolled": true
   },
   "outputs": [
    {
     "data": {
      "text/html": [
       "<div>\n",
       "<style scoped>\n",
       "    .dataframe tbody tr th:only-of-type {\n",
       "        vertical-align: middle;\n",
       "    }\n",
       "\n",
       "    .dataframe tbody tr th {\n",
       "        vertical-align: top;\n",
       "    }\n",
       "\n",
       "    .dataframe thead th {\n",
       "        text-align: right;\n",
       "    }\n",
       "</style>\n",
       "<table border=\"1\" class=\"dataframe\">\n",
       "  <thead>\n",
       "    <tr style=\"text-align: right;\">\n",
       "      <th></th>\n",
       "      <th>BMI</th>\n",
       "      <th>FAS</th>\n",
       "      <th>ToMbFAS</th>\n",
       "      <th>ToMbBMI</th>\n",
       "    </tr>\n",
       "  </thead>\n",
       "  <tbody>\n",
       "    <tr>\n",
       "      <th>0</th>\n",
       "      <td>16.5</td>\n",
       "      <td>14.99</td>\n",
       "      <td>NAN</td>\n",
       "      <td>Under Weight</td>\n",
       "    </tr>\n",
       "    <tr>\n",
       "      <th>1</th>\n",
       "      <td>13.68</td>\n",
       "      <td>11.78</td>\n",
       "      <td>MAM</td>\n",
       "      <td>Under Weight</td>\n",
       "    </tr>\n",
       "    <tr>\n",
       "      <th>2</th>\n",
       "      <td>14.73</td>\n",
       "      <td>14.13</td>\n",
       "      <td>NAN</td>\n",
       "      <td>Under Weight</td>\n",
       "    </tr>\n",
       "    <tr>\n",
       "      <th>3</th>\n",
       "      <td>23.99</td>\n",
       "      <td>11.74</td>\n",
       "      <td>MAM</td>\n",
       "      <td>Normal</td>\n",
       "    </tr>\n",
       "    <tr>\n",
       "      <th>4</th>\n",
       "      <td>20.07</td>\n",
       "      <td>10.81</td>\n",
       "      <td>SAM</td>\n",
       "      <td>Normal</td>\n",
       "    </tr>\n",
       "  </tbody>\n",
       "</table>\n",
       "</div>"
      ],
      "text/plain": [
       "     BMI    FAS ToMbFAS       ToMbBMI\n",
       "0   16.5  14.99     NAN  Under Weight\n",
       "1  13.68  11.78     MAM  Under Weight\n",
       "2  14.73  14.13     NAN  Under Weight\n",
       "3  23.99  11.74     MAM        Normal\n",
       "4  20.07  10.81     SAM        Normal"
      ]
     },
     "execution_count": 48,
     "metadata": {},
     "output_type": "execute_result"
    }
   ],
   "source": [
    "tdf = pd.DataFrame(data=np.append(\n",
    "        dt2[[\"BMI\",\"ForeArm Size (cm)\",\"Category of Malnourished Based on Arm Size\"]].values,\n",
    "        dt3[\"Type of Malnourishment\"].values[:,np.newaxis],\n",
    "\n",
    "        axis=1\n",
    "\n",
    "    ),columns=[\"BMI\",\"FAS\",\"ToMbFAS\",\"ToMbBMI\"])\n",
    "\n",
    "tdf.head()"
   ]
  },
  {
   "cell_type": "markdown",
   "id": "fb8872ff",
   "metadata": {},
   "source": [
    "## Scatter view of type of  Malnourishment based on both ForeArm size and BMI"
   ]
  },
  {
   "cell_type": "code",
   "execution_count": 17,
   "id": "a0419dee",
   "metadata": {},
   "outputs": [
    {
     "data": {
      "image/png": "[encoded data removed]",
      "text/plain": [
       "<Figure size 640x480 with 1 Axes>"
      ]
     },
     "metadata": {},
     "output_type": "display_data"
    }
   ],
   "source": [
    "marker = {\"Under Weight\":\"3\" , \"Normal\":\"+\" , \"Over weight\":\"v\"}\n",
    "spl = sns.scatterplot(data=tdf,\n",
    "                y=\"BMI\", \n",
    "                x = \"FAS\", \n",
    "                hue=\"ToMbFAS\", \n",
    "#                 markers=marker,\n",
    "                style=\"ToMbBMI\")\n",
    "\n",
    "plt.legend(loc='lower left', \n",
    "#            bbox_to_anchor=(0.0,0.75), \n",
    "           bbox_to_anchor=(1,0.5), \n",
    "           ncol = 2, \n",
    "           fancybox=True,\n",
    "           shadow=False)\n",
    "\n",
    "\n",
    "plt.title(\"Types of Malnourishment Based on ForArm Size and BMI\")\n",
    "\n",
    "plt.show()\n"
   ]
  },
  {
   "cell_type": "code",
   "execution_count": 51,
   "id": "bcb7a894",
   "metadata": {},
   "outputs": [
    {
     "data": {
      "text/html": [
       "<div>\n",
       "<style scoped>\n",
       "    .dataframe tbody tr th:only-of-type {\n",
       "        vertical-align: middle;\n",
       "    }\n",
       "\n",
       "    .dataframe tbody tr th {\n",
       "        vertical-align: top;\n",
       "    }\n",
       "\n",
       "    .dataframe thead th {\n",
       "        text-align: right;\n",
       "    }\n",
       "</style>\n",
       "<table border=\"1\" class=\"dataframe\">\n",
       "  <thead>\n",
       "    <tr style=\"text-align: right;\">\n",
       "      <th></th>\n",
       "      <th>Body Mass Index</th>\n",
       "      <th>Fore Arm Size</th>\n",
       "      <th>Type of Malnourishement by Fore Arm Size</th>\n",
       "      <th>Type of Malnourishement by Body Mass Index</th>\n",
       "    </tr>\n",
       "  </thead>\n",
       "  <tbody>\n",
       "    <tr>\n",
       "      <th>0</th>\n",
       "      <td>16.5</td>\n",
       "      <td>14.99</td>\n",
       "      <td>NAN</td>\n",
       "      <td>Under Weight</td>\n",
       "    </tr>\n",
       "    <tr>\n",
       "      <th>1</th>\n",
       "      <td>13.68</td>\n",
       "      <td>11.78</td>\n",
       "      <td>MAM</td>\n",
       "      <td>Under Weight</td>\n",
       "    </tr>\n",
       "    <tr>\n",
       "      <th>2</th>\n",
       "      <td>14.73</td>\n",
       "      <td>14.13</td>\n",
       "      <td>NAN</td>\n",
       "      <td>Under Weight</td>\n",
       "    </tr>\n",
       "    <tr>\n",
       "      <th>3</th>\n",
       "      <td>23.99</td>\n",
       "      <td>11.74</td>\n",
       "      <td>MAM</td>\n",
       "      <td>Normal</td>\n",
       "    </tr>\n",
       "    <tr>\n",
       "      <th>4</th>\n",
       "      <td>20.07</td>\n",
       "      <td>10.81</td>\n",
       "      <td>SAM</td>\n",
       "      <td>Normal</td>\n",
       "    </tr>\n",
       "  </tbody>\n",
       "</table>\n",
       "</div>"
      ],
      "text/plain": [
       "  Body Mass Index Fore Arm Size Type of Malnourishement by Fore Arm Size  \\\n",
       "0            16.5         14.99                                      NAN   \n",
       "1           13.68         11.78                                      MAM   \n",
       "2           14.73         14.13                                      NAN   \n",
       "3           23.99         11.74                                      MAM   \n",
       "4           20.07         10.81                                      SAM   \n",
       "\n",
       "  Type of Malnourishement by Body Mass Index  \n",
       "0                               Under Weight  \n",
       "1                               Under Weight  \n",
       "2                               Under Weight  \n",
       "3                                     Normal  \n",
       "4                                     Normal  "
      ]
     },
     "execution_count": 51,
     "metadata": {},
     "output_type": "execute_result"
    }
   ],
   "source": [
    "tdf.rename(columns={\"ToMbFAS\": \"Type of Malnourishement by Fore Arm Size\",\"ToMbBMI\": \"Type of Malnourishement by Body Mass Index\",\"BMI\":\"Body Mass Index\",\"FAS\":\"Fore Arm Size\"},inplace=True)\n",
    "tdf.head()"
   ]
  },
  {
   "cell_type": "code",
   "execution_count": 52,
   "id": "14f21e4a",
   "metadata": {},
   "outputs": [
    {
     "data": {
      "image/png": "[encoded data removed]",
      "text/plain": [
       "<Figure size 640x480 with 1 Axes>"
      ]
     },
     "metadata": {},
     "output_type": "display_data"
    }
   ],
   "source": [
    "sns.scatterplot(data=tdf,\n",
    "                y=\"Body Mass Index\", \n",
    "                x = \"Fore Arm Size\", \n",
    "                hue=\"Type of Malnourishement by Fore Arm Size\", \n",
    "                style=\"Type of Malnourishement by Body Mass Index\")\n",
    "plt.legend(loc='lower left', \n",
    "           bbox_to_anchor=(1,0.235),\n",
    "           fancybox=True, \n",
    "           shadow=False)\n",
    "plt.title(\"Types of Malnourishment Based on ForArm Size and BMI\")\n",
    "plt.show()"
   ]
  },
  {
   "cell_type": "code",
   "execution_count": 53,
   "id": "ddf44e62",
   "metadata": {},
   "outputs": [],
   "source": [
    "# def clust(a,b):\n",
    "#         res = ''\n",
    "#         if(a<=11.55):\n",
    "#             res +=\"SAM\"\n",
    "            \n",
    "#         elif(11.55<a and a<=12.45):\n",
    "#             res +=\"MAM\"\n",
    "#         elif(12.45<a and a<=13.35):\n",
    "#             res +=\"EU\"\n",
    "#         elif(13.35<a):\n",
    "#             res +=\"NAN\"\n",
    "            \n",
    "#         res +=\" + \"\n",
    "#         if(b< 18.5):\n",
    "#             res +=\"Under Weight\"\n",
    "#         elif(18.5 <=b and b<24.9):\n",
    "#             res +=\"Normal Weight\"\n",
    "#         elif(24.9 <=b ):\n",
    "#             res +=\"Over Weight\"\n",
    "#         return res"
   ]
  },
  {
   "cell_type": "code",
   "execution_count": 54,
   "id": "2b1bc8b8",
   "metadata": {},
   "outputs": [],
   "source": [
    "# X1 = tdf.loc[:,[\"Fore Arm Size\",\"Body Mass Index\"]].values\n",
    "# y = np.array([clust(i[0],i[1]) for i in X1])\n",
    "\n",
    "# x1,x2 = np.meshgrid(np.arange(start =6.5 , stop = 15, step = 0.01),\n",
    "#                 np.arange(start =10 , stop =30 , step = 0.01))\n",
    "\n",
    "# y1 = np.array([clust(i[0],i[1]) for i in np.array([x1.ravel(),x2.ravel()]).T])\n",
    "# # y1.shape, x1.shape, x2.shape\n",
    "# y1 = np.array(LabelEncoder().fit_transform(y1))\n",
    "# y1.min()"
   ]
  },
  {
   "cell_type": "code",
   "execution_count": 55,
   "id": "f8e5c24e",
   "metadata": {},
   "outputs": [],
   "source": [
    "\n",
    "# x1,x2 = np.meshgrid(np.arange(start =6 , stop = 15, step = 0.01),\n",
    "#                 np.arange(start =10 , stop =30 , step = 0.01))\n",
    "# y1 = np.array([clust(i[0],i[1]) for i in np.array([x1.ravel(),x2.ravel()]).T])\n",
    "# le = LabelEncoder()\n",
    "# y1 = le.fit_transform(y1)\n",
    "# cm = plt.get_cmap('gist_rainbow')\n",
    "\n",
    "# cs = plt.contourf(x1,x2,\n",
    "#             y1.reshape(x1.shape), \n",
    "#             alpha = 0.25, \n",
    "#             cmap = ListedColormap([cm(1.*i/11) for i in range(11)]),\n",
    "#             )\n",
    "# proxy = [plt.Rectangle((0,0),1,1,\n",
    "#                        fc = pc.get_facecolor()[0]) for pc in cs.collections]\n",
    "\n",
    "# lgnds = [le.inverse_transform([i])[0]+f\" ({i})\" for i in  np.arange(12)]\n",
    "\n",
    "# plt.legend(proxy, lgnds,\n",
    "#            loc='lower left',\n",
    "#            bbox_to_anchor=(1,0.235),\n",
    "#            fancybox=True, \n",
    "#            shadow=False\n",
    "#           )\n",
    "\n",
    "# # plt.clabel(cs)\n",
    "\n",
    "# plt.xlabel(\"Fore Arm Size\")\n",
    "# plt.ylabel(\"Body Mass Index\")\n",
    "# plt.xlim(6.2, 14.9)\n",
    "# plt.ylim(9.9,29.9)\n",
    "# plt.title(\"Visualizing areas of Malnourishement\")\n",
    "# plt.show()\n"
   ]
  },
  {
   "cell_type": "code",
   "execution_count": null,
   "id": "8f2b9802",
   "metadata": {},
   "outputs": [],
   "source": []
  },
  {
   "cell_type": "markdown",
   "id": "7aa7f9ec",
   "metadata": {},
   "source": [
    "## scatter Plot of ForeArm Size v/s Malnourished or Not"
   ]
  },
  {
   "cell_type": "code",
   "execution_count": 56,
   "id": "a9ef80be",
   "metadata": {},
   "outputs": [
    {
     "data": {
      "text/html": [
       "<div>\n",
       "<style scoped>\n",
       "    .dataframe tbody tr th:only-of-type {\n",
       "        vertical-align: middle;\n",
       "    }\n",
       "\n",
       "    .dataframe tbody tr th {\n",
       "        vertical-align: top;\n",
       "    }\n",
       "\n",
       "    .dataframe thead th {\n",
       "        text-align: right;\n",
       "    }\n",
       "</style>\n",
       "<table border=\"1\" class=\"dataframe\">\n",
       "  <thead>\n",
       "    <tr style=\"text-align: right;\">\n",
       "      <th></th>\n",
       "      <th>Body Mass Index</th>\n",
       "      <th>Fore Arm Size</th>\n",
       "      <th>Type of Malnourishement by Fore Arm Size</th>\n",
       "      <th>Type of Malnourishement by Body Mass Index</th>\n",
       "      <th>M_BMI</th>\n",
       "    </tr>\n",
       "  </thead>\n",
       "  <tbody>\n",
       "    <tr>\n",
       "      <th>0</th>\n",
       "      <td>16.5</td>\n",
       "      <td>14.99</td>\n",
       "      <td>NAN</td>\n",
       "      <td>Under Weight</td>\n",
       "      <td>Yes</td>\n",
       "    </tr>\n",
       "    <tr>\n",
       "      <th>1</th>\n",
       "      <td>13.68</td>\n",
       "      <td>11.78</td>\n",
       "      <td>MAM</td>\n",
       "      <td>Under Weight</td>\n",
       "      <td>Yes</td>\n",
       "    </tr>\n",
       "    <tr>\n",
       "      <th>2</th>\n",
       "      <td>14.73</td>\n",
       "      <td>14.13</td>\n",
       "      <td>NAN</td>\n",
       "      <td>Under Weight</td>\n",
       "      <td>Yes</td>\n",
       "    </tr>\n",
       "    <tr>\n",
       "      <th>3</th>\n",
       "      <td>23.99</td>\n",
       "      <td>11.74</td>\n",
       "      <td>MAM</td>\n",
       "      <td>Normal</td>\n",
       "      <td>No</td>\n",
       "    </tr>\n",
       "    <tr>\n",
       "      <th>4</th>\n",
       "      <td>20.07</td>\n",
       "      <td>10.81</td>\n",
       "      <td>SAM</td>\n",
       "      <td>Normal</td>\n",
       "      <td>No</td>\n",
       "    </tr>\n",
       "    <tr>\n",
       "      <th>5</th>\n",
       "      <td>20.8</td>\n",
       "      <td>14.3</td>\n",
       "      <td>NAN</td>\n",
       "      <td>Normal</td>\n",
       "      <td>No</td>\n",
       "    </tr>\n",
       "    <tr>\n",
       "      <th>6</th>\n",
       "      <td>12.62</td>\n",
       "      <td>7.83</td>\n",
       "      <td>SAM</td>\n",
       "      <td>Under Weight</td>\n",
       "      <td>Yes</td>\n",
       "    </tr>\n",
       "    <tr>\n",
       "      <th>7</th>\n",
       "      <td>24.18</td>\n",
       "      <td>14.71</td>\n",
       "      <td>NAN</td>\n",
       "      <td>Normal</td>\n",
       "      <td>No</td>\n",
       "    </tr>\n",
       "  </tbody>\n",
       "</table>\n",
       "</div>"
      ],
      "text/plain": [
       "  Body Mass Index Fore Arm Size Type of Malnourishement by Fore Arm Size  \\\n",
       "0            16.5         14.99                                      NAN   \n",
       "1           13.68         11.78                                      MAM   \n",
       "2           14.73         14.13                                      NAN   \n",
       "3           23.99         11.74                                      MAM   \n",
       "4           20.07         10.81                                      SAM   \n",
       "5            20.8          14.3                                      NAN   \n",
       "6           12.62          7.83                                      SAM   \n",
       "7           24.18         14.71                                      NAN   \n",
       "\n",
       "  Type of Malnourishement by Body Mass Index M_BMI  \n",
       "0                               Under Weight   Yes  \n",
       "1                               Under Weight   Yes  \n",
       "2                               Under Weight   Yes  \n",
       "3                                     Normal    No  \n",
       "4                                     Normal    No  \n",
       "5                                     Normal    No  \n",
       "6                               Under Weight   Yes  \n",
       "7                                     Normal    No  "
      ]
     },
     "execution_count": 56,
     "metadata": {},
     "output_type": "execute_result"
    }
   ],
   "source": [
    "tdf[\"M_BMI\"]=dt3[\"Malnourished or Not\"]\n",
    "tdf.head(8)"
   ]
  },
  {
   "cell_type": "code",
   "execution_count": 57,
   "id": "ede81a72",
   "metadata": {},
   "outputs": [
    {
     "data": {
      "image/png": "[encoded data removed]",
      "text/plain": [
       "<Figure size 640x480 with 1 Axes>"
      ]
     },
     "metadata": {},
     "output_type": "display_data"
    }
   ],
   "source": [
    "sns.scatterplot(data=tdf,x=\"Fore Arm Size\",\n",
    "                y=\"M_BMI\",\n",
    "                hue='M_BMI'\n",
    "               )\n",
    "plt.title(\"Visualizing Relationship between Fore Arm Size and Malnourishement by BMI\")\n",
    "plt.show()"
   ]
  },
  {
   "cell_type": "code",
   "execution_count": null,
   "id": "3e6afa13",
   "metadata": {},
   "outputs": [],
   "source": []
  },
  {
   "cell_type": "code",
   "execution_count": 58,
   "id": "97c6cc9b",
   "metadata": {},
   "outputs": [
    {
     "data": {
      "text/html": [
       "<div>\n",
       "<style scoped>\n",
       "    .dataframe tbody tr th:only-of-type {\n",
       "        vertical-align: middle;\n",
       "    }\n",
       "\n",
       "    .dataframe tbody tr th {\n",
       "        vertical-align: top;\n",
       "    }\n",
       "\n",
       "    .dataframe thead th {\n",
       "        text-align: right;\n",
       "    }\n",
       "</style>\n",
       "<table border=\"1\" class=\"dataframe\">\n",
       "  <thead>\n",
       "    <tr style=\"text-align: right;\">\n",
       "      <th></th>\n",
       "      <th>Patient Id</th>\n",
       "      <th>Height</th>\n",
       "      <th>Weight</th>\n",
       "      <th>BMI</th>\n",
       "      <th>Fore Arm Size</th>\n",
       "      <th>Area</th>\n",
       "    </tr>\n",
       "  </thead>\n",
       "  <tbody>\n",
       "    <tr>\n",
       "      <th>0</th>\n",
       "      <td>RajMah001</td>\n",
       "      <td>82.94</td>\n",
       "      <td>11.35</td>\n",
       "      <td>16.50</td>\n",
       "      <td>14.99</td>\n",
       "      <td>Rajura</td>\n",
       "    </tr>\n",
       "    <tr>\n",
       "      <th>1</th>\n",
       "      <td>RajMah002</td>\n",
       "      <td>95.46</td>\n",
       "      <td>12.47</td>\n",
       "      <td>13.68</td>\n",
       "      <td>11.78</td>\n",
       "      <td>Aheri</td>\n",
       "    </tr>\n",
       "    <tr>\n",
       "      <th>2</th>\n",
       "      <td>RajMah003</td>\n",
       "      <td>88.71</td>\n",
       "      <td>11.59</td>\n",
       "      <td>14.73</td>\n",
       "      <td>14.13</td>\n",
       "      <td>Aheri</td>\n",
       "    </tr>\n",
       "    <tr>\n",
       "      <th>3</th>\n",
       "      <td>RajMah004</td>\n",
       "      <td>90.25</td>\n",
       "      <td>19.54</td>\n",
       "      <td>23.99</td>\n",
       "      <td>11.74</td>\n",
       "      <td>Aheri</td>\n",
       "    </tr>\n",
       "    <tr>\n",
       "      <th>4</th>\n",
       "      <td>RajMah005</td>\n",
       "      <td>89.24</td>\n",
       "      <td>15.98</td>\n",
       "      <td>20.07</td>\n",
       "      <td>10.81</td>\n",
       "      <td>Aheri</td>\n",
       "    </tr>\n",
       "    <tr>\n",
       "      <th>5</th>\n",
       "      <td>RajMah006</td>\n",
       "      <td>95.46</td>\n",
       "      <td>18.95</td>\n",
       "      <td>20.80</td>\n",
       "      <td>14.30</td>\n",
       "      <td>Rajura</td>\n",
       "    </tr>\n",
       "    <tr>\n",
       "      <th>6</th>\n",
       "      <td>RajMah007</td>\n",
       "      <td>89.16</td>\n",
       "      <td>10.03</td>\n",
       "      <td>12.62</td>\n",
       "      <td>7.83</td>\n",
       "      <td>Gadchiroli</td>\n",
       "    </tr>\n",
       "    <tr>\n",
       "      <th>7</th>\n",
       "      <td>RajMah008</td>\n",
       "      <td>86.48</td>\n",
       "      <td>18.08</td>\n",
       "      <td>24.18</td>\n",
       "      <td>14.71</td>\n",
       "      <td>Gadchiroli</td>\n",
       "    </tr>\n",
       "    <tr>\n",
       "      <th>8</th>\n",
       "      <td>RajMah009</td>\n",
       "      <td>98.74</td>\n",
       "      <td>19.38</td>\n",
       "      <td>19.88</td>\n",
       "      <td>10.96</td>\n",
       "      <td>Etapalli</td>\n",
       "    </tr>\n",
       "    <tr>\n",
       "      <th>9</th>\n",
       "      <td>RajMah010</td>\n",
       "      <td>102.28</td>\n",
       "      <td>12.88</td>\n",
       "      <td>12.31</td>\n",
       "      <td>11.46</td>\n",
       "      <td>Rajura</td>\n",
       "    </tr>\n",
       "  </tbody>\n",
       "</table>\n",
       "</div>"
      ],
      "text/plain": [
       "  Patient Id  Height  Weight    BMI  Fore Arm Size        Area\n",
       "0  RajMah001   82.94   11.35  16.50          14.99      Rajura\n",
       "1  RajMah002   95.46   12.47  13.68          11.78       Aheri\n",
       "2  RajMah003   88.71   11.59  14.73          14.13       Aheri\n",
       "3  RajMah004   90.25   19.54  23.99          11.74       Aheri\n",
       "4  RajMah005   89.24   15.98  20.07          10.81       Aheri\n",
       "5  RajMah006   95.46   18.95  20.80          14.30      Rajura\n",
       "6  RajMah007   89.16   10.03  12.62           7.83  Gadchiroli\n",
       "7  RajMah008   86.48   18.08  24.18          14.71  Gadchiroli\n",
       "8  RajMah009   98.74   19.38  19.88          10.96    Etapalli\n",
       "9  RajMah010  102.28   12.88  12.31          11.46      Rajura"
      ]
     },
     "execution_count": 58,
     "metadata": {},
     "output_type": "execute_result"
    }
   ],
   "source": [
    "tdf1 = pd.DataFrame()\n",
    "tdf1[\"Patient Id\"] = dt3[\"Patient Id\"]\n",
    "\n",
    "tdf1[\"Height\"] = dt2[\"Height (cm)\"]\n",
    "tdf1[\"Weight\"] = dt2[\"Weight (kg)\"]\n",
    "\n",
    "tdf1[\"BMI\"] = dt2[\"BMI\"]\n",
    "\n",
    "tdf1[\"Fore Arm Size\"] = dt2[\"ForeArm Size (cm)\"]\n",
    "tdf1[\"Area\"] = dt[\"Address\"]\n",
    "# tdf1[\"Age\"]\n",
    "\n",
    "#mean,mode,median,sd,percentile,variance\n",
    "tdf1.head(10)"
   ]
  },
  {
   "cell_type": "markdown",
   "id": "c9ac1ac7",
   "metadata": {},
   "source": [
    "## Pie chart to observe area/ address wise data distribution"
   ]
  },
  {
   "cell_type": "code",
   "execution_count": 59,
   "id": "f766600d",
   "metadata": {},
   "outputs": [
    {
     "data": {
      "image/png": "[encoded data removed]",
      "text/plain": [
       "<Figure size 640x480 with 1 Axes>"
      ]
     },
     "metadata": {},
     "output_type": "display_data"
    }
   ],
   "source": [
    "plt.pie(\n",
    "    tdf1[\"Area\"].value_counts().values,\n",
    "    labels = tdf1[\"Area\"].value_counts().index,\n",
    "    autopct = '%1.2f%%',\n",
    "    radius = 1.5,\n",
    "    textprops = {\"color\":\"black\",'size':10},\n",
    "    )\n",
    "\n",
    "labels = [f'{l} = {s}' for l, s in zip(tdf1[\"Area\"].value_counts().index, \n",
    "                                       tdf1[\"Area\"].value_counts().values)]\n",
    "\n",
    "plt.legend(title=\"Area = Tota infants\",\n",
    "           bbox_to_anchor=(1.1, 1.1), \n",
    "           loc='upper left', labels=labels)\n",
    "\n",
    "\n",
    "plt.title(\n",
    "    \"Percentage of infants which tested in center and their records are stored in the dataset\", \n",
    "    y=1.18)\n",
    "plt.show()"
   ]
  },
  {
   "cell_type": "code",
   "execution_count": 62,
   "id": "8351ca42",
   "metadata": {},
   "outputs": [
    {
     "data": {
      "text/html": [
       "<div>\n",
       "<style scoped>\n",
       "    .dataframe tbody tr th:only-of-type {\n",
       "        vertical-align: middle;\n",
       "    }\n",
       "\n",
       "    .dataframe tbody tr th {\n",
       "        vertical-align: top;\n",
       "    }\n",
       "\n",
       "    .dataframe thead th {\n",
       "        text-align: right;\n",
       "    }\n",
       "</style>\n",
       "<table border=\"1\" class=\"dataframe\">\n",
       "  <thead>\n",
       "    <tr style=\"text-align: right;\">\n",
       "      <th></th>\n",
       "      <th>Patient Id</th>\n",
       "      <th>Height</th>\n",
       "      <th>Weight</th>\n",
       "      <th>BMI</th>\n",
       "      <th>Fore Arm Size</th>\n",
       "      <th>Area</th>\n",
       "    </tr>\n",
       "  </thead>\n",
       "  <tbody>\n",
       "    <tr>\n",
       "      <th>0</th>\n",
       "      <td>RajMah001</td>\n",
       "      <td>82.94</td>\n",
       "      <td>11.35</td>\n",
       "      <td>16.50</td>\n",
       "      <td>14.99</td>\n",
       "      <td>Rajura</td>\n",
       "    </tr>\n",
       "    <tr>\n",
       "      <th>1</th>\n",
       "      <td>RajMah002</td>\n",
       "      <td>95.46</td>\n",
       "      <td>12.47</td>\n",
       "      <td>13.68</td>\n",
       "      <td>11.78</td>\n",
       "      <td>Aheri</td>\n",
       "    </tr>\n",
       "    <tr>\n",
       "      <th>2</th>\n",
       "      <td>RajMah003</td>\n",
       "      <td>88.71</td>\n",
       "      <td>11.59</td>\n",
       "      <td>14.73</td>\n",
       "      <td>14.13</td>\n",
       "      <td>Aheri</td>\n",
       "    </tr>\n",
       "    <tr>\n",
       "      <th>3</th>\n",
       "      <td>RajMah004</td>\n",
       "      <td>90.25</td>\n",
       "      <td>19.54</td>\n",
       "      <td>23.99</td>\n",
       "      <td>11.74</td>\n",
       "      <td>Aheri</td>\n",
       "    </tr>\n",
       "    <tr>\n",
       "      <th>4</th>\n",
       "      <td>RajMah005</td>\n",
       "      <td>89.24</td>\n",
       "      <td>15.98</td>\n",
       "      <td>20.07</td>\n",
       "      <td>10.81</td>\n",
       "      <td>Aheri</td>\n",
       "    </tr>\n",
       "  </tbody>\n",
       "</table>\n",
       "</div>"
      ],
      "text/plain": [
       "  Patient Id  Height  Weight    BMI  Fore Arm Size    Area\n",
       "0  RajMah001   82.94   11.35  16.50          14.99  Rajura\n",
       "1  RajMah002   95.46   12.47  13.68          11.78   Aheri\n",
       "2  RajMah003   88.71   11.59  14.73          14.13   Aheri\n",
       "3  RajMah004   90.25   19.54  23.99          11.74   Aheri\n",
       "4  RajMah005   89.24   15.98  20.07          10.81   Aheri"
      ]
     },
     "execution_count": 62,
     "metadata": {},
     "output_type": "execute_result"
    }
   ],
   "source": [
    "tdf1.head()"
   ]
  },
  {
   "cell_type": "code",
   "execution_count": 61,
   "id": "5c6732e0",
   "metadata": {},
   "outputs": [
    {
     "ename": "KeyError",
     "evalue": "'Area'",
     "output_type": "error",
     "traceback": [
      "\u001b[1;31m--------------------------------------------------------------------------\u001b[0m",
      "\u001b[1;31mKeyError\u001b[0m                                 Traceback (most recent call last)",
      "File \u001b[1;32mD:\\DiAT\\AnA\\envs\\diat\\Lib\\site-packages\\pandas\\core\\indexes\\base.py:3802\u001b[0m, in \u001b[0;36mIndex.get_loc\u001b[1;34m(self, key)\u001b[0m\n\u001b[0;32m   3801\u001b[0m \u001b[38;5;28;01mtry\u001b[39;00m:\n\u001b[1;32m-> 3802\u001b[0m     \u001b[38;5;28;01mreturn\u001b[39;00m \u001b[38;5;28mself\u001b[39m\u001b[38;5;241m.\u001b[39m_engine\u001b[38;5;241m.\u001b[39mget_loc(casted_key)\n\u001b[0;32m   3803\u001b[0m \u001b[38;5;28;01mexcept\u001b[39;00m \u001b[38;5;167;01mKeyError\u001b[39;00m \u001b[38;5;28;01mas\u001b[39;00m err:\n",
      "File \u001b[1;32mindex.pyx:153\u001b[0m, in \u001b[0;36mpandas._libs.index.IndexEngine.get_loc\u001b[1;34m()\u001b[0m\n",
      "File \u001b[1;32mindex.pyx:182\u001b[0m, in \u001b[0;36mpandas._libs.index.IndexEngine.get_loc\u001b[1;34m()\u001b[0m\n",
      "File \u001b[1;32mpandas\\\\_libs\\\\hashtable_class_helper.pxi:7081\u001b[0m, in \u001b[0;36mpandas._libs.hashtable.PyObjectHashTable.get_item\u001b[1;34m()\u001b[0m\n",
      "File \u001b[1;32mpandas\\\\_libs\\\\hashtable_class_helper.pxi:7089\u001b[0m, in \u001b[0;36mpandas._libs.hashtable.PyObjectHashTable.get_item\u001b[1;34m()\u001b[0m\n",
      "\u001b[1;31mKeyError\u001b[0m: 'Area'",
      "\nThe above exception was the direct cause of the following exception:\n",
      "\u001b[1;31mKeyError\u001b[0m                                 Traceback (most recent call last)",
      "Cell \u001b[1;32mIn[61], line 2\u001b[0m\n\u001b[0;32m      1\u001b[0m ttl \u001b[38;5;241m=\u001b[39m plt\u001b[38;5;241m.\u001b[39mbar(\n\u001b[1;32m----> 2\u001b[0m     tdf[\u001b[38;5;124m\"\u001b[39m\u001b[38;5;124mArea\u001b[39m\u001b[38;5;124m\"\u001b[39m]\u001b[38;5;241m.\u001b[39mvalue_counts()\u001b[38;5;241m.\u001b[39mindex, \n\u001b[0;32m      3\u001b[0m     tdf[\u001b[38;5;124m\"\u001b[39m\u001b[38;5;124mArea\u001b[39m\u001b[38;5;124m\"\u001b[39m]\u001b[38;5;241m.\u001b[39mvalue_counts()\u001b[38;5;241m.\u001b[39mvalues,\n\u001b[0;32m      4\u001b[0m     width\u001b[38;5;241m=\u001b[39m\u001b[38;5;241m.6\u001b[39m\n\u001b[0;32m      5\u001b[0m     )\n\u001b[0;32m      7\u001b[0m yes \u001b[38;5;241m=\u001b[39m plt\u001b[38;5;241m.\u001b[39mbar(tdf[tdf[\u001b[38;5;124m\"\u001b[39m\u001b[38;5;124mMalnoirished or not\u001b[39m\u001b[38;5;124m\"\u001b[39m ]\u001b[38;5;241m==\u001b[39m \u001b[38;5;124m\"\u001b[39m\u001b[38;5;124mYes\u001b[39m\u001b[38;5;124m\"\u001b[39m][\u001b[38;5;124m\"\u001b[39m\u001b[38;5;124mArea\u001b[39m\u001b[38;5;124m\"\u001b[39m]\u001b[38;5;241m.\u001b[39mvalue_counts()\u001b[38;5;241m.\u001b[39mindex, \n\u001b[0;32m      8\u001b[0m         tdf[tdf[\u001b[38;5;124m\"\u001b[39m\u001b[38;5;124mMalnoirished or not\u001b[39m\u001b[38;5;124m\"\u001b[39m ]\u001b[38;5;241m==\u001b[39m \u001b[38;5;124m\"\u001b[39m\u001b[38;5;124mYes\u001b[39m\u001b[38;5;124m\"\u001b[39m][\u001b[38;5;124m\"\u001b[39m\u001b[38;5;124mArea\u001b[39m\u001b[38;5;124m\"\u001b[39m]\u001b[38;5;241m.\u001b[39mvalue_counts()\u001b[38;5;241m.\u001b[39mvalues,\n\u001b[0;32m      9\u001b[0m         width\u001b[38;5;241m=\u001b[39m\u001b[38;5;241m.55\u001b[39m,\n\u001b[0;32m     10\u001b[0m         bottom\u001b[38;5;241m=\u001b[39m\u001b[38;5;241m.0\u001b[39m,\n\u001b[0;32m     11\u001b[0m         \u001b[38;5;66;03m#align='center'\u001b[39;00m\n\u001b[0;32m     12\u001b[0m        )\n\u001b[0;32m     14\u001b[0m yslables \u001b[38;5;241m=\u001b[39m [ \u001b[38;5;124mf\u001b[39m\u001b[38;5;124m\"\u001b[39m\u001b[38;5;132;01m{\u001b[39;00m\u001b[38;5;28mround\u001b[39m(y\u001b[38;5;241m*\u001b[39m\u001b[38;5;241m100\u001b[39m\u001b[38;5;241m/\u001b[39mt,\u001b[38;5;241m2\u001b[39m)\u001b[38;5;132;01m}\u001b[39;00m\u001b[38;5;124m%\u001b[39m\u001b[38;5;124m\"\u001b[39m \u001b[38;5;28;01mfor\u001b[39;00m y, t \u001b[38;5;129;01min\u001b[39;00m \u001b[38;5;28mzip\u001b[39m(tdf[tdf[\u001b[38;5;124m\"\u001b[39m\u001b[38;5;124mMalnoirished or not\u001b[39m\u001b[38;5;124m\"\u001b[39m ]\u001b[38;5;241m==\u001b[39m \u001b[38;5;124m\"\u001b[39m\u001b[38;5;124mYes\u001b[39m\u001b[38;5;124m\"\u001b[39m][\u001b[38;5;124m\"\u001b[39m\u001b[38;5;124mArea\u001b[39m\u001b[38;5;124m\"\u001b[39m]\u001b[38;5;241m.\u001b[39mvalue_counts()\u001b[38;5;241m.\u001b[39mvalues ,tdf1[\u001b[38;5;124m\"\u001b[39m\u001b[38;5;124mArea\u001b[39m\u001b[38;5;124m\"\u001b[39m]\u001b[38;5;241m.\u001b[39mvalue_counts()\u001b[38;5;241m.\u001b[39mvalues)]\n",
      "File \u001b[1;32mD:\\DiAT\\AnA\\envs\\diat\\Lib\\site-packages\\pandas\\core\\frame.py:4061\u001b[0m, in \u001b[0;36mDataFrame.__getitem__\u001b[1;34m(self, key)\u001b[0m\n\u001b[0;32m   4059\u001b[0m \u001b[38;5;28;01mif\u001b[39;00m \u001b[38;5;28mself\u001b[39m\u001b[38;5;241m.\u001b[39mcolumns\u001b[38;5;241m.\u001b[39mnlevels \u001b[38;5;241m>\u001b[39m \u001b[38;5;241m1\u001b[39m:\n\u001b[0;32m   4060\u001b[0m     \u001b[38;5;28;01mreturn\u001b[39;00m \u001b[38;5;28mself\u001b[39m\u001b[38;5;241m.\u001b[39m_getitem_multilevel(key)\n\u001b[1;32m-> 4061\u001b[0m indexer \u001b[38;5;241m=\u001b[39m \u001b[38;5;28mself\u001b[39m\u001b[38;5;241m.\u001b[39mcolumns\u001b[38;5;241m.\u001b[39mget_loc(key)\n\u001b[0;32m   4062\u001b[0m \u001b[38;5;28;01mif\u001b[39;00m is_integer(indexer):\n\u001b[0;32m   4063\u001b[0m     indexer \u001b[38;5;241m=\u001b[39m [indexer]\n",
      "File \u001b[1;32mD:\\DiAT\\AnA\\envs\\diat\\Lib\\site-packages\\pandas\\core\\indexes\\base.py:3809\u001b[0m, in \u001b[0;36mIndex.get_loc\u001b[1;34m(self, key)\u001b[0m\n\u001b[0;32m   3804\u001b[0m     \u001b[38;5;28;01mif\u001b[39;00m \u001b[38;5;28misinstance\u001b[39m(casted_key, \u001b[38;5;28mslice\u001b[39m) \u001b[38;5;129;01mor\u001b[39;00m (\n\u001b[0;32m   3805\u001b[0m         \u001b[38;5;28misinstance\u001b[39m(casted_key, abc\u001b[38;5;241m.\u001b[39mIterable)\n\u001b[0;32m   3806\u001b[0m         \u001b[38;5;129;01mand\u001b[39;00m \u001b[38;5;28many\u001b[39m(\u001b[38;5;28misinstance\u001b[39m(x, \u001b[38;5;28mslice\u001b[39m) \u001b[38;5;28;01mfor\u001b[39;00m x \u001b[38;5;129;01min\u001b[39;00m casted_key)\n\u001b[0;32m   3807\u001b[0m     ):\n\u001b[0;32m   3808\u001b[0m         \u001b[38;5;28;01mraise\u001b[39;00m InvalidIndexError(key)\n\u001b[1;32m-> 3809\u001b[0m     \u001b[38;5;28;01mraise\u001b[39;00m \u001b[38;5;167;01mKeyError\u001b[39;00m(key) \u001b[38;5;28;01mfrom\u001b[39;00m \u001b[38;5;21;01merr\u001b[39;00m\n\u001b[0;32m   3810\u001b[0m \u001b[38;5;28;01mexcept\u001b[39;00m \u001b[38;5;167;01mTypeError\u001b[39;00m:\n\u001b[0;32m   3811\u001b[0m     \u001b[38;5;66;03m# If we have a listlike key, _check_indexing_error will raise\u001b[39;00m\n\u001b[0;32m   3812\u001b[0m     \u001b[38;5;66;03m#  InvalidIndexError. Otherwise we fall through and re-raise\u001b[39;00m\n\u001b[0;32m   3813\u001b[0m     \u001b[38;5;66;03m#  the TypeError.\u001b[39;00m\n\u001b[0;32m   3814\u001b[0m     \u001b[38;5;28mself\u001b[39m\u001b[38;5;241m.\u001b[39m_check_indexing_error(key)\n",
      "\u001b[1;31mKeyError\u001b[0m: 'Area'"
     ]
    }
   ],
   "source": [
    "ttl = plt.bar(\n",
    "    tdf[\"Area\"].value_counts().index, \n",
    "    tdf[\"Area\"].value_counts().values,\n",
    "    width=.6\n",
    "    )\n",
    "\n",
    "yes = plt.bar(tdf[tdf[\"Malnoirished or not\" ]== \"Yes\"][\"Area\"].value_counts().index, \n",
    "        tdf[tdf[\"Malnoirished or not\" ]== \"Yes\"][\"Area\"].value_counts().values,\n",
    "        width=.55,\n",
    "        bottom=.0,\n",
    "        #align='center'\n",
    "       )\n",
    "\n",
    "yslables = [ f\"{round(y*100/t,2)}%\" for y, t in zip(tdf[tdf1[\"Malnoirished or not\" ]== \"Yes\"][\"Area\"].value_counts().values ,tdf1[\"Area\"].value_counts().values)]\n",
    "ttlb = [f\"{i}\" for i in tdf1[\"Area\"].value_counts().values]\n",
    "\n",
    "plt.bar_label(yes,yslables)\n",
    "plt.bar_label(ttl,ttlb)\n",
    "plt.title(\n",
    "    \"Area wise child malnourshment\", \n",
    "    )\n",
    "lgnd = [\"Total no. of registration\", \"Percentage of malnourshed child\"]\n",
    "plt.legend(\n",
    "#     title=\"Area = Tota infants\",\n",
    "    bbox_to_anchor=(.7, 1),\n",
    "    loc='upper left', labels=lgnd)\n",
    "plt.xlabel(\"Area name\")\n",
    "plt.ylabel(\"Number of patients\")\n",
    "plt.show()"
   ]
  },
  {
   "cell_type": "code",
   "execution_count": null,
   "id": "8122f286",
   "metadata": {},
   "outputs": [],
   "source": [
    "tdf1.head()"
   ]
  },
  {
   "cell_type": "markdown",
   "id": "232b212f",
   "metadata": {},
   "source": [
    "# description of Height, Weight, ForeArm Size and BMI"
   ]
  },
  {
   "cell_type": "code",
   "execution_count": null,
   "id": "45804e6a",
   "metadata": {},
   "outputs": [],
   "source": [
    "\n",
    "report = tdf1.describe().T.copy()\n",
    "report =report[[\"count\",\"mean\",\"std\",\"25%\",\"50%\",\"75%\",\"min\",\"max\"]]\n",
    "report = report.rename({\"count\":\"Count\",\n",
    "                       \"mean\":\"Mean\",\n",
    "                       \"std\":\"Standard Deviation\",\n",
    "                       \"min\":\"MIN\",\n",
    "                       \"max\":\"MAX\"})\n",
    "report"
   ]
  },
  {
   "cell_type": "code",
   "execution_count": null,
   "id": "801fe1a2",
   "metadata": {},
   "outputs": [],
   "source": [
    "report = tdf1.describe().T.copy()\n",
    "report =report[[\"count\",\"mean\",\"std\",\"25%\",\"50%\",\"75%\",\"min\",\"max\"]]\n",
    "report"
   ]
  },
  {
   "cell_type": "markdown",
   "id": "eaa553fc",
   "metadata": {},
   "source": [
    "## Histogram"
   ]
  },
  {
   "cell_type": "code",
   "execution_count": null,
   "id": "e0728a64",
   "metadata": {},
   "outputs": [],
   "source": []
  },
  {
   "cell_type": "code",
   "execution_count": null,
   "id": "2ff36551",
   "metadata": {},
   "outputs": [],
   "source": []
  },
  {
   "cell_type": "code",
   "execution_count": null,
   "id": "2a2314e3",
   "metadata": {
    "scrolled": false
   },
   "outputs": [],
   "source": [
    "# help(tdf.rename)\n",
    "# tdf.rename(columns={\"ToMbFAS\": \"Type of Malnourishement by Fore Arm Size\",\"ToMbBMI\": \"Type of Malnourishement by Body Mass index\"},inplace=True)\n",
    "# tdf.drop([\"color\"], axis=1, inplace=True)"
   ]
  },
  {
   "cell_type": "code",
   "execution_count": null,
   "id": "10748a1c",
   "metadata": {},
   "outputs": [],
   "source": [
    "# import matplotlib.pyplot as plt\n",
    "# from matplotlib.patches import Rectangle\n",
    "# fig = plt.figure()\n",
    "# ax = fig.add_subplot(111)\n",
    "# bar_0_10 = ax.bar(np.arange(0,10), np.arange(1,11), color=\"k\")\n",
    "# bar_10_100 = ax.bar(np.arange(0,10), np.arange(30,40), bottom=np.arange(1,11), color=\"g\")\n",
    "# # create blank rectangle\n",
    "# extra = Rectangle((0, 0), 1, 1, fc=\"w\", fill=False, edgecolor='none', linewidth=0)\n",
    "# ax.legend([extra, bar_0_10, bar_10_100], (\"My explanatory text\", \"0-10\", \"10-100\"))\n",
    "# plt.show()"
   ]
  },
  {
   "cell_type": "code",
   "execution_count": null,
   "id": "f1e3f64c",
   "metadata": {},
   "outputs": [],
   "source": [
    "dt3.head()"
   ]
  },
  {
   "cell_type": "code",
   "execution_count": null,
   "id": "1475d894",
   "metadata": {},
   "outputs": [],
   "source": [
    "dt.head()"
   ]
  },
  {
   "cell_type": "code",
   "execution_count": null,
   "id": "358965b0",
   "metadata": {},
   "outputs": [],
   "source": [
    "dt2.head()"
   ]
  },
  {
   "cell_type": "markdown",
   "id": "f23be777",
   "metadata": {},
   "source": [
    "finding age of childrenes in days"
   ]
  },
  {
   "cell_type": "code",
   "execution_count": null,
   "id": "0f3db682",
   "metadata": {},
   "outputs": [],
   "source": [
    "mesured = pd.to_datetime(dt2[\"Date\"],format='%d-%m-%Y')\n",
    "dob = pd.to_datetime(dt[\"DOB\"],format='%d-%m-%Y')\n",
    "\n",
    "tdf2 = pd.DataFrame()\n",
    "tdf2[\"Patient Id\"] = dt2['Patient Id']\n",
    "tdf2[\"Age in days\"] = (mesured - dob) / np.timedelta64(1, 'D')\n",
    "\n",
    "tdf2['Malnourished or Not'] = dt3[\"Malnourished or Not\"]\n",
    "\n",
    "\n",
    "tdf2.head()"
   ]
  },
  {
   "cell_type": "markdown",
   "id": "9a31fb21",
   "metadata": {},
   "source": [
    "### Histogram"
   ]
  },
  {
   "cell_type": "code",
   "execution_count": 33,
   "id": "726c3525",
   "metadata": {},
   "outputs": [
    {
     "ename": "NameError",
     "evalue": "name 'tdf2' is not defined",
     "output_type": "error",
     "traceback": [
      "\u001b[1;31m--------------------------------------------------------------------------\u001b[0m",
      "\u001b[1;31mNameError\u001b[0m                                Traceback (most recent call last)",
      "Cell \u001b[1;32mIn[33], line 1\u001b[0m\n\u001b[1;32m----> 1\u001b[0m tdf2[tdf2[\u001b[38;5;124m'\u001b[39m\u001b[38;5;124mMalnourished or Not\u001b[39m\u001b[38;5;124m'\u001b[39m]\u001b[38;5;241m==\u001b[39m\u001b[38;5;124m\"\u001b[39m\u001b[38;5;124mYes\u001b[39m\u001b[38;5;124m\"\u001b[39m][\u001b[38;5;124m\"\u001b[39m\u001b[38;5;124mAge in days\u001b[39m\u001b[38;5;124m\"\u001b[39m]\u001b[38;5;241m.\u001b[39mhist()\n\u001b[0;32m      2\u001b[0m plt\u001b[38;5;241m.\u001b[39mxlabel(\u001b[38;5;124m\"\u001b[39m\u001b[38;5;124mAge in Days\u001b[39m\u001b[38;5;124m\"\u001b[39m)\n\u001b[0;32m      3\u001b[0m plt\u001b[38;5;241m.\u001b[39mylabel(\u001b[38;5;124m\"\u001b[39m\u001b[38;5;124mno of Malnourished\u001b[39m\u001b[38;5;124m\"\u001b[39m)\n",
      "\u001b[1;31mNameError\u001b[0m: name 'tdf2' is not defined"
     ]
    }
   ],
   "source": [
    "tdf2[tdf2['Malnourished or Not']==\"Yes\"][\"Age in days\"].hist()\n",
    "plt.xlabel(\"Age in Days\")\n",
    "plt.ylabel(\"no of Malnourished\")\n",
    "plt.title(\"Histogram of no of Malnourished v/s Age in days\")\n",
    "plt.show()"
   ]
  },
  {
   "cell_type": "code",
   "execution_count": null,
   "id": "6b9b4dc2",
   "metadata": {},
   "outputs": [],
   "source": []
  },
  {
   "cell_type": "markdown",
   "id": "d7b8b281",
   "metadata": {},
   "source": [
    "Categorize data by age in months"
   ]
  },
  {
   "cell_type": "code",
   "execution_count": null,
   "id": "2b9b0870",
   "metadata": {},
   "outputs": [],
   "source": [
    "days = tdf2[\"Age in days\"].to_list()\n",
    "months =[]\n",
    "for i in days:\n",
    "    t = i\n",
    "    l=1\n",
    "    while(t>30):\n",
    "        t -= 30\n",
    "        l +=1\n",
    "#     months.append(str(l))\n",
    "    months.append(l)\n",
    "tdf2[\"months\"] = months\n",
    "tdf2.head()"
   ]
  },
  {
   "cell_type": "code",
   "execution_count": null,
   "id": "6357b12e",
   "metadata": {},
   "outputs": [],
   "source": [
    "hst = tdf2[tdf2['Malnourished or Not']==\"Yes\"][\"months\"]\n",
    "hst.hist(bins = 10)\n",
    "plt.xticks(np.arange(hst.min(),hst.max()+1))\n",
    "plt.xlabel(\"Age in Months\")\n",
    "plt.ylabel(\"no of Malnourished\")\n",
    "plt.title(\"Histogram of no of Malnourished v/s Age in months\")\n",
    "plt.show()"
   ]
  },
  {
   "cell_type": "markdown",
   "id": "4b8928d2",
   "metadata": {},
   "source": [
    "# Making data of Recovery from Malnourishement"
   ]
  },
  {
   "cell_type": "code",
   "execution_count": null,
   "id": "6c3a20ca",
   "metadata": {},
   "outputs": [],
   "source": [
    "import random as rnd\n",
    "dt2[\"Category of Malnourished Based on Arm Size\"].unique()"
   ]
  },
  {
   "cell_type": "code",
   "execution_count": null,
   "id": "77f33194",
   "metadata": {},
   "outputs": [],
   "source": [
    "recovery = []\n",
    "cate = dt2[\"Category of Malnourished Based on Arm Size\"].values\n",
    "for i in cate:\n",
    "    if(i == \"SAM\"):\n",
    "        rn = rnd.randint(95,120)\n",
    "    elif(i == \"MAM\"):\n",
    "        rn = rnd.randint(75,95)\n",
    "    elif(i == \"EU\"):\n",
    "        rn = rnd.randint(65,75)\n",
    "    elif(i == \"NAN\"):\n",
    "        rn = rnd.randint(55,65)\n",
    "    recovery.append(rn)\n"
   ]
  },
  {
   "cell_type": "code",
   "execution_count": null,
   "id": "0533b4f2",
   "metadata": {},
   "outputs": [],
   "source": [
    "tdf3 = dt2[[\"ForeArm Size (cm)\",\"Category of Malnourished Based on Arm Size\"]]\n",
    "tdf3[\"recovery\"] = recovery\n",
    "tdf3.head()"
   ]
  },
  {
   "cell_type": "markdown",
   "id": "b4f9f18e",
   "metadata": {},
   "source": [
    "# making Dataset"
   ]
  },
  {
   "cell_type": "code",
   "execution_count": null,
   "id": "8e249857",
   "metadata": {},
   "outputs": [],
   "source": [
    "reco_dat =pd.DataFrame()\n",
    "reco_dat[\"PatintId\"] = dt2[\"Patient Id\"]\n",
    "reco_dat[\"Measured_date\"] = dt2[\"Date\"]\n",
    "reco_dat[\"Type_of_malnourishment(FAS)\"] = dt2[\"Category of Malnourished Based on Arm Size\"]\n",
    "reco_dat[\"Type_of_malnourishment(BMI)\"] = dt3[\"Type of Malnourishment\"]\n",
    "reco_dat[\"Type of Malnourishment(BMI + FAS)\"] = dt3[\"Type of Malnourishment\"] +\"+\"+ dt2[\"Category of Malnourished Based on Arm Size\"]\n",
    "# reco_dat[\"Recovery(FAS)\"] = recovery\n",
    "reco_dat.head()"
   ]
  },
  {
   "cell_type": "markdown",
   "id": "001d7c4d",
   "metadata": {},
   "source": []
  },
  {
   "cell_type": "code",
   "execution_count": null,
   "id": "a9719928",
   "metadata": {},
   "outputs": [],
   "source": [
    "reco_dat[\"Type of Malnourishment(BMI + FAS)\"].unique()"
   ]
  },
  {
   "cell_type": "markdown",
   "id": "aa362b5a",
   "metadata": {},
   "source": [
    "Generating recovery time days according to types of Malnourishement based on BMI and ForeArm Size combinely"
   ]
  },
  {
   "cell_type": "code",
   "execution_count": null,
   "id": "58f60942",
   "metadata": {},
   "outputs": [],
   "source": [
    "cate = reco_dat[\"Type of Malnourishment(BMI + FAS)\"].values\n",
    "recovery = []\n",
    "for i in cate:\n",
    "    \n",
    "    if(i == 'Under Weight+NAN'):\n",
    "        rn = rnd.randint(60,70)\n",
    "    elif(i == 'Under Weight+SAM'):\n",
    "        rn = rnd.randint(100,140)\n",
    "    elif(i == 'Under Weight+EU'):\n",
    "        rn = rnd.randint(70,84)\n",
    "    elif(i == 'Under Weight+MAM'):\n",
    "        rn = rnd.randint(85,100)\n",
    "        \n",
    "    elif(i == 'Normal+SAM'):\n",
    "        rn = rnd.randint(90,100)\n",
    "    elif(i == 'Normal+MAM'):\n",
    "        rn = rnd.randint(75,90)\n",
    "    elif(i ==  'Normal+NAN'):\n",
    "        rn = rnd.randint(50,60)\n",
    "    elif(i ==  'Normal+EU'):\n",
    "        rn = rnd.randint(60,75)\n",
    "        \n",
    "    elif(i == 'Over weight+SAM'):\n",
    "        rn = rnd.randint(100,140)\n",
    "    elif(i == 'Over weight+MAM'):\n",
    "        rn = rnd.randint(85,99)\n",
    "    elif(i == 'Over weight+EU'):\n",
    "        rn = rnd.randint(70,85)\n",
    "    elif(i == 'Over weight+NAN'):\n",
    "        rn = rnd.randint(60,70)\n",
    "    \n",
    "    recovery.append(rn)\n",
    "    \n",
    "    \n",
    "    "
   ]
  },
  {
   "cell_type": "code",
   "execution_count": 28,
   "id": "eb31ceaf",
   "metadata": {
    "scrolled": true
   },
   "outputs": [
    {
     "ename": "NameError",
     "evalue": "name 'recovery' is not defined",
     "output_type": "error",
     "traceback": [
      "\u001b[1;31m--------------------------------------------------------------------------\u001b[0m",
      "\u001b[1;31mNameError\u001b[0m                                Traceback (most recent call last)",
      "Cell \u001b[1;32mIn[28], line 1\u001b[0m\n\u001b[1;32m----> 1\u001b[0m reco_dat[\u001b[38;5;124m\"\u001b[39m\u001b[38;5;124mrecovery_days(BMI+FAS)\u001b[39m\u001b[38;5;124m\"\u001b[39m] \u001b[38;5;241m=\u001b[39m recovery\n\u001b[0;32m      2\u001b[0m reco_dat\u001b[38;5;241m.\u001b[39mhead()\n",
      "\u001b[1;31mNameError\u001b[0m: name 'recovery' is not defined"
     ]
    }
   ],
   "source": [
    "reco_dat[\"recovery_days(BMI+FAS)\"] = recovery\n",
    "reco_dat.head()"
   ]
  },
  {
   "cell_type": "markdown",
   "id": "ad2e17fb",
   "metadata": {},
   "source": [
    "Saving 6the dataset at <b>Recovery data(BMI+FAS)_50.xlsx</b>"
   ]
  },
  {
   "cell_type": "code",
   "execution_count": 29,
   "id": "d5518e6e",
   "metadata": {},
   "outputs": [
    {
     "ename": "NameError",
     "evalue": "name 'reco_dat' is not defined",
     "output_type": "error",
     "traceback": [
      "\u001b[1;31m--------------------------------------------------------------------------\u001b[0m",
      "\u001b[1;31mNameError\u001b[0m                                Traceback (most recent call last)",
      "Cell \u001b[1;32mIn[29], line 1\u001b[0m\n\u001b[1;32m----> 1\u001b[0m reco_dat\u001b[38;5;241m.\u001b[39mto_excel(\u001b[38;5;124m\"\u001b[39m\u001b[38;5;124mDataSets/Recovery data(BMI+FAS)_50.xlsx\u001b[39m\u001b[38;5;124m\"\u001b[39m, index\u001b[38;5;241m=\u001b[39m\u001b[38;5;28;01mFalse\u001b[39;00m)\n",
      "\u001b[1;31mNameError\u001b[0m: name 'reco_dat' is not defined"
     ]
    }
   ],
   "source": [
    "reco_dat.to_excel(\"DataSets/Recovery data(BMI+FAS)_50.xlsx\", index=False)"
   ]
  },
  {
   "cell_type": "markdown",
   "id": "e185a73e",
   "metadata": {},
   "source": [
    "# Scatter Plot of Type of Malnourishment(BMI + FAS) v/s recovery days  "
   ]
  },
  {
   "cell_type": "code",
   "execution_count": 53,
   "id": "4db87b90",
   "metadata": {},
   "outputs": [],
   "source": [
    "X = reco_dat[\"Type of Malnourishment(BMI + FAS)\"].values\n",
    "Y = reco_dat[\"recovery_days(BMI+FAS)\"].values"
   ]
  },
  {
   "cell_type": "code",
   "execution_count": 54,
   "id": "80c68e14",
   "metadata": {},
   "outputs": [
    {
     "data": {
      "image/png": "[encoded data removed]",
      "text/plain": [
       "<Figure size 640x480 with 1 Axes>"
      ]
     },
     "metadata": {},
     "output_type": "display_data"
    }
   ],
   "source": [
    "plt.scatter(X,Y,label=\"recovery_days\",s=2)\n",
    "plt.xlabel(\"Type of Malnourishment(BMI + FAS)\")\n",
    "plt.ylabel(\"recovery_days(BMI+FAS)\")\n",
    "plt.xticks(rotation='vertical')\n",
    "plt.legend()\n",
    "plt.title(\"Day wise recovery of patients based BMI and Fore Arm Size\")\n",
    "plt.show()"
   ]
  },
  {
   "cell_type": "code",
   "execution_count": 55,
   "id": "af123a3b",
   "metadata": {},
   "outputs": [],
   "source": [
    "# plt.scatter(X_en,Y,label=\"recovery_days\",s=2)\n",
    "# plt.xlabel(\"Type of Malnourishment(BMI + FAS)\")\n",
    "# plt.ylabel(\"recovery_days(BMI+FAS)\")\n",
    "# # plt.xticks(rotation='vertical')\n",
    "# plt.legend()\n"
   ]
  },
  {
   "cell_type": "code",
   "execution_count": 56,
   "id": "24728166",
   "metadata": {},
   "outputs": [
    {
     "data": {
      "text/plain": [
       "Type of Malnourishment(BMI + FAS)\n",
       "Normal+NAN           60\n",
       "Normal+EU            69\n",
       "Under Weight+NAN     70\n",
       "Normal+MAM           81\n",
       "Under Weight+EU      83\n",
       "Under Weight+MAM     98\n",
       "Normal+SAM           99\n",
       "Over weight+SAM     123\n",
       "Under Weight+SAM    138\n",
       "Name: recovery_days(BMI+FAS), dtype: int64"
      ]
     },
     "execution_count": 56,
     "metadata": {},
     "output_type": "execute_result"
    }
   ],
   "source": [
    "tm = reco_dat.groupby(\"Type of Malnourishment(BMI + FAS)\")[\"recovery_days(BMI+FAS)\"].max()\n",
    "tm  = tm.sort_values()\n",
    "tm"
   ]
  },
  {
   "cell_type": "code",
   "execution_count": 57,
   "id": "13e244a3",
   "metadata": {},
   "outputs": [
    {
     "data": {
      "text/plain": [
       "0          Normal+NAN\n",
       "1           Normal+EU\n",
       "2    Under Weight+NAN\n",
       "3          Normal+MAM\n",
       "4     Under Weight+EU\n",
       "5    Under Weight+MAM\n",
       "6          Normal+SAM\n",
       "7     Over weight+SAM\n",
       "8    Under Weight+SAM\n",
       "Name: Type of Malnourishment(BMI + FAS), dtype: object"
      ]
     },
     "execution_count": 57,
     "metadata": {},
     "output_type": "execute_result"
    }
   ],
   "source": [
    "xx = pd.Series(tm.index)\n",
    "xx"
   ]
  },
  {
   "cell_type": "code",
   "execution_count": null,
   "id": "e8054186",
   "metadata": {},
   "outputs": [],
   "source": []
  },
  {
   "cell_type": "markdown",
   "id": "2b495e1f",
   "metadata": {},
   "source": [
    "## Recovery time sample  for a patient"
   ]
  },
  {
   "cell_type": "code",
   "execution_count": 67,
   "id": "93fff8fb",
   "metadata": {},
   "outputs": [
    {
     "data": {
      "text/html": [
       "<div>\n",
       "<style scoped>\n",
       "    .dataframe tbody tr th:only-of-type {\n",
       "        vertical-align: middle;\n",
       "    }\n",
       "\n",
       "    .dataframe tbody tr th {\n",
       "        vertical-align: top;\n",
       "    }\n",
       "\n",
       "    .dataframe thead th {\n",
       "        text-align: right;\n",
       "    }\n",
       "</style>\n",
       "<table border=\"1\" class=\"dataframe\">\n",
       "  <thead>\n",
       "    <tr style=\"text-align: right;\">\n",
       "      <th></th>\n",
       "      <th>BMI</th>\n",
       "      <th>FAS</th>\n",
       "    </tr>\n",
       "  </thead>\n",
       "  <tbody>\n",
       "    <tr>\n",
       "      <th>0</th>\n",
       "      <td>14</td>\n",
       "      <td>8.0</td>\n",
       "    </tr>\n",
       "    <tr>\n",
       "      <th>1</th>\n",
       "      <td>14</td>\n",
       "      <td>8.5</td>\n",
       "    </tr>\n",
       "    <tr>\n",
       "      <th>2</th>\n",
       "      <td>16</td>\n",
       "      <td>9.5</td>\n",
       "    </tr>\n",
       "    <tr>\n",
       "      <th>3</th>\n",
       "      <td>19</td>\n",
       "      <td>10.0</td>\n",
       "    </tr>\n",
       "    <tr>\n",
       "      <th>4</th>\n",
       "      <td>21</td>\n",
       "      <td>10.5</td>\n",
       "    </tr>\n",
       "    <tr>\n",
       "      <th>5</th>\n",
       "      <td>23</td>\n",
       "      <td>10.6</td>\n",
       "    </tr>\n",
       "  </tbody>\n",
       "</table>\n",
       "</div>"
      ],
      "text/plain": [
       "   BMI   FAS\n",
       "0   14   8.0\n",
       "1   14   8.5\n",
       "2   16   9.5\n",
       "3   19  10.0\n",
       "4   21  10.5\n",
       "5   23  10.6"
      ]
     },
     "execution_count": 67,
     "metadata": {},
     "output_type": "execute_result"
    }
   ],
   "source": [
    "visits = pd.DataFrame()\n",
    "visits[\"BMI\"] = [14,14,16,19,21,23]\n",
    "visits[\"FAS\"] = [8,8.5,9.5,10,10.5,10.6]\n",
    "visits"
   ]
  },
  {
   "cell_type": "code",
   "execution_count": 68,
   "id": "bc7c1bb3",
   "metadata": {},
   "outputs": [],
   "source": [
    "X = visits.index.to_list()\n",
    "y1 = visits['BMI'].values\n",
    "y2 = visits['FAS'].values"
   ]
  },
  {
   "cell_type": "code",
   "execution_count": 69,
   "id": "333ed321",
   "metadata": {},
   "outputs": [],
   "source": [
    "X = np.array(X).reshape(len(X),1)\n",
    "y1 = np.array(y1).reshape(len(y1),1)\n",
    "y2 = np.array(y2).reshape(len(y2),1)"
   ]
  },
  {
   "cell_type": "code",
   "execution_count": 70,
   "id": "fb59ec61",
   "metadata": {},
   "outputs": [],
   "source": [
    "from sklearn.linear_model import LinearRegression"
   ]
  },
  {
   "cell_type": "markdown",
   "id": "9b143fdf",
   "metadata": {},
   "source": [
    "## Prediction of BMI and ForeArm Size values for next visit "
   ]
  },
  {
   "cell_type": "code",
   "execution_count": 71,
   "id": "79775871",
   "metadata": {},
   "outputs": [
    {
     "data": {
      "text/html": [
       "<style>#sk-container-id-3 {color: black;}#sk-container-id-3 pre{padding: 0;}#sk-container-id-3 div.sk-toggleable {background-color: white;}#sk-container-id-3 label.sk-toggleable__label {cursor: pointer;display: block;width: 100%;margin-bottom: 0;padding: 0.3em;box-sizing: border-box;text-align: center;}#sk-container-id-3 label.sk-toggleable__label-arrow:before {content: \"▸\";float: left;margin-right: 0.25em;color: #696969;}#sk-container-id-3 label.sk-toggleable__label-arrow:hover:before {color: black;}#sk-container-id-3 div.sk-estimator:hover label.sk-toggleable__label-arrow:before {color: black;}#sk-container-id-3 div.sk-toggleable__content {max-height: 0;max-width: 0;overflow: hidden;text-align: left;background-color: #f0f8ff;}#sk-container-id-3 div.sk-toggleable__content pre {margin: 0.2em;color: black;border-radius: 0.25em;background-color: #f0f8ff;}#sk-container-id-3 input.sk-toggleable__control:checked~div.sk-toggleable__content {max-height: 200px;max-width: 100%;overflow: auto;}#sk-container-id-3 input.sk-toggleable__control:checked~label.sk-toggleable__label-arrow:before {content: \"▾\";}#sk-container-id-3 div.sk-estimator input.sk-toggleable__control:checked~label.sk-toggleable__label {background-color: #d4ebff;}#sk-container-id-3 div.sk-label input.sk-toggleable__control:checked~label.sk-toggleable__label {background-color: #d4ebff;}#sk-container-id-3 input.sk-hidden--visually {border: 0;clip: rect(1px 1px 1px 1px);clip: rect(1px, 1px, 1px, 1px);height: 1px;margin: -1px;overflow: hidden;padding: 0;position: absolute;width: 1px;}#sk-container-id-3 div.sk-estimator {font-family: monospace;background-color: #f0f8ff;border: 1px dotted black;border-radius: 0.25em;box-sizing: border-box;margin-bottom: 0.5em;}#sk-container-id-3 div.sk-estimator:hover {background-color: #d4ebff;}#sk-container-id-3 div.sk-parallel-item::after {content: \"\";width: 100%;border-bottom: 1px solid gray;flex-grow: 1;}#sk-container-id-3 div.sk-label:hover label.sk-toggleable__label {background-color: #d4ebff;}#sk-container-id-3 div.sk-serial::before {content: \"\";position: absolute;border-left: 1px solid gray;box-sizing: border-box;top: 0;bottom: 0;left: 50%;z-index: 0;}#sk-container-id-3 div.sk-serial {display: flex;flex-direction: column;align-items: center;background-color: white;padding-right: 0.2em;padding-left: 0.2em;position: relative;}#sk-container-id-3 div.sk-item {position: relative;z-index: 1;}#sk-container-id-3 div.sk-parallel {display: flex;align-items: stretch;justify-content: center;background-color: white;position: relative;}#sk-container-id-3 div.sk-item::before, #sk-container-id-3 div.sk-parallel-item::before {content: \"\";position: absolute;border-left: 1px solid gray;box-sizing: border-box;top: 0;bottom: 0;left: 50%;z-index: -1;}#sk-container-id-3 div.sk-parallel-item {display: flex;flex-direction: column;z-index: 1;position: relative;background-color: white;}#sk-container-id-3 div.sk-parallel-item:first-child::after {align-self: flex-end;width: 50%;}#sk-container-id-3 div.sk-parallel-item:last-child::after {align-self: flex-start;width: 50%;}#sk-container-id-3 div.sk-parallel-item:only-child::after {width: 0;}#sk-container-id-3 div.sk-dashed-wrapped {border: 1px dashed gray;margin: 0 0.4em 0.5em 0.4em;box-sizing: border-box;padding-bottom: 0.4em;background-color: white;}#sk-container-id-3 div.sk-label label {font-family: monospace;font-weight: bold;display: inline-block;line-height: 1.2em;}#sk-container-id-3 div.sk-label-container {text-align: center;}#sk-container-id-3 div.sk-container {/* jupyter's `normalize.less` sets `[hidden] { display: none; }` but bootstrap.min.css set `[hidden] { display: none !important; }` so we also need the `!important` here to be able to override the default hidden behavior on the sphinx rendered scikit-learn.org. See: https://github.com/scikit-learn/scikit-learn/issues/21755 */display: inline-block !important;position: relative;}#sk-container-id-3 div.sk-text-repr-fallback {display: none;}</style><div id=\"sk-container-id-3\" class=\"sk-top-container\"><div class=\"sk-text-repr-fallback\"><pre>LinearRegression()</pre><b>In a Jupyter environment, please rerun this cell to show the HTML representation or trust the notebook. <br />On GitHub, the HTML representation is unable to render, please try loading this page with nbviewer.org.</b></div><div class=\"sk-container\" hidden><div class=\"sk-item\"><div class=\"sk-estimator sk-toggleable\"><input class=\"sk-toggleable__control sk-hidden--visually\" id=\"sk-estimator-id-3\" type=\"checkbox\" checked><label for=\"sk-estimator-id-3\" class=\"sk-toggleable__label sk-toggleable__label-arrow\">LinearRegression</label><div class=\"sk-toggleable__content\"><pre>LinearRegression()</pre></div></div></div></div></div>"
      ],
      "text/plain": [
       "LinearRegression()"
      ]
     },
     "execution_count": 71,
     "metadata": {},
     "output_type": "execute_result"
    }
   ],
   "source": [
    "model_1 = LinearRegression(fit_intercept=True)\n",
    "model_2 = LinearRegression(fit_intercept=True)\n",
    "model_1.fit(X,y1)\n",
    "model_2.fit(X,y2)"
   ]
  },
  {
   "cell_type": "code",
   "execution_count": 77,
   "id": "8b32f718",
   "metadata": {},
   "outputs": [
    {
     "data": {
      "text/plain": [
       "Text(0.5, 1.0, 'Next visit BMI and ForeArm Size Prediction')"
      ]
     },
     "execution_count": 77,
     "metadata": {},
     "output_type": "execute_result"
    },
    {
     "data": {
      "image/png": "[encoded data removed]",
      "text/plain": [
       "<Figure size 640x480 with 1 Axes>"
      ]
     },
     "metadata": {},
     "output_type": "display_data"
    }
   ],
   "source": [
    "y_1 = model_1.predict([[6],[7],[8]])\n",
    "y_2 = model_2.predict([[6],[7],[8]])\n",
    "plt.scatter(data=visits,x=\"BMI\",y=\"FAS\",label=\"visited\")\n",
    "plt.scatter(y_1,y_2,label=\"prediction\")\n",
    "plt.xlabel(\"BMI\")\n",
    "plt.ylabel(\"ForeArm Size\")\n",
    "plt.legend()\n",
    "plt.title(\"Next visit BMI and ForeArm Size Prediction\")"
   ]
  },
  {
   "cell_type": "code",
   "execution_count": 78,
   "id": "ffed212f",
   "metadata": {},
   "outputs": [],
   "source": [
    "# y_1 = model_1.predict([[1.4]])\n",
    "# y_2 = model_2.predict([[1.4]])\n",
    "# plt.scatter(data=visits,x=\"BMI\",y=\"FAS\",label=\"visited\")\n",
    "# plt.scatter(y_1,y_2,label=\"prediction\")\n",
    "# plt.xlabel(\"BMI\")\n",
    "# plt.ylabel(\"ForeArm Size\")\n",
    "# plt.legend()\n",
    "# plt.title(\"next visit BMI and ForeArm Sizeprediction\")"
   ]
  },
  {
   "cell_type": "markdown",
   "id": "d91588ba",
   "metadata": {},
   "source": [
    "### Visualizing the linear regression model"
   ]
  },
  {
   "cell_type": "code",
   "execution_count": 80,
   "id": "99b01a17",
   "metadata": {},
   "outputs": [
    {
     "data": {
      "text/plain": [
       "Text(0.5, 1.0, 'next visit BMI and ForeArm Sizeprediction')"
      ]
     },
     "execution_count": 80,
     "metadata": {},
     "output_type": "execute_result"
    },
    {
     "data": {
      "image/png": "[encoded data removed]",
      "text/plain": [
       "<Figure size 640x480 with 1 Axes>"
      ]
     },
     "metadata": {},
     "output_type": "display_data"
    }
   ],
   "source": [
    "vs = np.linspace(0,9)\n",
    "vs = vs.reshape(len(vs),1)\n",
    "y_1s = model_1.predict(vs)\n",
    "y_2s = model_2.predict(vs)\n",
    "plt.scatter(data=visits,x=\"BMI\",y=\"FAS\",label=\"visited\")\n",
    "plt.plot(y_1s, y_2s,c=\"red\")\n",
    "\n",
    "# plt.scatter(y_1,y_2,label=\"prediction\")\n",
    "plt.xlabel(\"BMI\")\n",
    "plt.ylabel(\"ForeArm Size\")\n",
    "plt.legend()\n",
    "plt.title(\"next visit BMI and ForeArm Sizeprediction\")"
   ]
  },
  {
   "cell_type": "code",
   "execution_count": 66,
   "id": "fb6e8aea",
   "metadata": {},
   "outputs": [
    {
     "data": {
      "text/plain": [
       "<Axes: xlabel='BMI', ylabel='FAS'>"
      ]
     },
     "execution_count": 66,
     "metadata": {},
     "output_type": "execute_result"
    },
    {
     "data": {
      "image/png": "[encoded data removed]",
      "text/plain": [
       "<Figure size 640x480 with 1 Axes>"
      ]
     },
     "metadata": {},
     "output_type": "display_data"
    }
   ],
   "source": [
    "sns.regplot(data=visits, x=\"BMI\",y=\"FAS\")"
   ]
  },
  {
   "cell_type": "code",
   "execution_count": null,
   "id": "200c03cd",
   "metadata": {},
   "outputs": [],
   "source": []
  },
  {
   "cell_type": "code",
   "execution_count": null,
   "id": "a34d281e",
   "metadata": {},
   "outputs": [],
   "source": []
  },
  {
   "cell_type": "code",
   "execution_count": null,
   "id": "4de2a484",
   "metadata": {},
   "outputs": [],
   "source": []
  },
  {
   "cell_type": "code",
   "execution_count": null,
   "id": "234fa6e0",
   "metadata": {},
   "outputs": [],
   "source": []
  }
 ],
 "metadata": {
  "kernelspec": {
   "display_name": "Python 3 (ipykernel)",
   "language": "python",
   "name": "python3"
  },
  "language_info": {
   "codemirror_mode": {
    "name": "ipython",
    "version": 3
   },
   "file_extension": ".py",
   "mimetype": "text/x-python",
   "name": "python",
   "nbconvert_exporter": "python",
   "pygments_lexer": "ipython3",
   "version": "3.11.5"
  }
 },
 "nbformat": 4,
 "nbformat_minor": 5
}
